{
  "nbformat": 4,
  "nbformat_minor": 0,
  "metadata": {
    "colab": {
      "provenance": [],
      "gpuType": "T4"
    },
    "kernelspec": {
      "name": "python3",
      "display_name": "Python 3"
    },
    "language_info": {
      "name": "python"
    },
    "accelerator": "GPU"
  },
  "cells": [
    {
      "cell_type": "markdown",
      "source": [
        "# Treinamento do Modelo"
      ],
      "metadata": {
        "id": "wvYOrpOfkK0b"
      }
    },
    {
      "cell_type": "markdown",
      "source": [
        "Com o dataset de landmarks pronto, a próxima etapa é a criação e o treinamento do modelo. Para este projeto, optou-se por uma Rede Neural Perceptron de Múltiplas Camadas (MLP). O modelo será treinado com os valores dos landmarks para classificar as diferentes posições de mão.\n",
        "> **Importante**: Este projeto lida com um dataset estático, onde cada imagem corresponde a uma letra do alfabeto em LIBRAS. Devido à natureza estática da coleta, algumas letras não foram incluídas no dataset. Portanto, o modelo foi treinado e avaliado apenas com base nas imagens estáticas disponíveis."
      ],
      "metadata": {
        "id": "PeaY9bLlkOWD"
      }
    },
    {
      "cell_type": "markdown",
      "source": [
        "#### Preparação do Ambiente de Drive"
      ],
      "metadata": {
        "id": "4MsUaPPHrZWA"
      }
    },
    {
      "cell_type": "markdown",
      "source": [
        "Para fins de conexão com Google Drive, nessa seção tem a preparação da conexão com o serviço."
      ],
      "metadata": {
        "id": "mKQ0e6LkreJE"
      }
    },
    {
      "cell_type": "code",
      "source": [
        "# Montagem do drive\n",
        "from google.colab import drive\n",
        "drive.mount('/content/drive')"
      ],
      "metadata": {
        "colab": {
          "base_uri": "https://localhost:8080/"
        },
        "id": "tXI0Y0vs_Dis",
        "outputId": "278da5e5-1098-463a-8d18-df3629539131"
      },
      "execution_count": 21,
      "outputs": [
        {
          "output_type": "stream",
          "name": "stdout",
          "text": [
            "Drive already mounted at /content/drive; to attempt to forcibly remount, call drive.mount(\"/content/drive\", force_remount=True).\n"
          ]
        }
      ]
    },
    {
      "cell_type": "markdown",
      "source": [
        "### Carregamento do Dataset"
      ],
      "metadata": {
        "id": "171o8Wydrpok"
      }
    },
    {
      "cell_type": "code",
      "source": [
        "from pathlib import Path\n",
        "path_dataset = Path(\"/content/drive/MyDrive/Colab Notebooks/datasets/alphalibras/df_libras_landmarks.csv\")"
      ],
      "metadata": {
        "id": "sGXiygft_F_6"
      },
      "execution_count": 22,
      "outputs": []
    },
    {
      "cell_type": "code",
      "source": [
        "import pandas as pd\n",
        "df_libras_landmarks = pd.read_csv(path_dataset)"
      ],
      "metadata": {
        "id": "r_knEvdC_avj"
      },
      "execution_count": 23,
      "outputs": []
    },
    {
      "cell_type": "markdown",
      "source": [
        "Uma vez com o dataset carregado, abaixo tem-se uma amostra de como os dados estão organizados."
      ],
      "metadata": {
        "id": "Y7E7xnqXr8Hy"
      }
    },
    {
      "cell_type": "markdown",
      "source": [
        "Abaixo segue algumas informações sobre o dataset:"
      ],
      "metadata": {
        "id": "BVC1JvfI1Frt"
      }
    },
    {
      "cell_type": "code",
      "source": [
        "tamanho_original = len(df_libras_landmarks)\n",
        "print(f\"O total de linhas no DataFrame original é: {tamanho_original}\")"
      ],
      "metadata": {
        "id": "2DORAubQ1Cy5",
        "colab": {
          "base_uri": "https://localhost:8080/"
        },
        "outputId": "44b5193a-93fd-4625-e027-2a2ecafd7b44"
      },
      "execution_count": 24,
      "outputs": [
        {
          "output_type": "stream",
          "name": "stdout",
          "text": [
            "O total de linhas no DataFrame original é: 32661\n"
          ]
        }
      ]
    },
    {
      "cell_type": "code",
      "source": [
        "df_libras_landmarks.head(20)"
      ],
      "metadata": {
        "colab": {
          "base_uri": "https://localhost:8080/",
          "height": 677
        },
        "id": "oGlavGXO_r2s",
        "outputId": "c535290d-f4e3-4f7f-d45a-f7569bee652e"
      },
      "execution_count": 25,
      "outputs": [
        {
          "output_type": "execute_result",
          "data": {
            "text/plain": [
              "    Unnamed: 0 label                                          landmarks\n",
              "0            0     A  [0.0, 0.0, 0.0, -0.33296008560803314, -0.16070...\n",
              "1            1     A  [0.0, 0.0, 0.0, -0.35644034016925447, -0.12055...\n",
              "2            2     A  [0.0, 0.0, 0.0, -0.3758913066102671, -0.158168...\n",
              "3            3     A  [0.0, 0.0, 0.0, -0.38806661691919003, -0.13577...\n",
              "4            4     A  [0.0, 0.0, 0.0, -0.38245503947281784, -0.12714...\n",
              "5            5     A  [0.0, 0.0, 0.0, -0.3973856632972975, -0.118951...\n",
              "6            6     A  [0.0, 0.0, 0.0, -0.37178776428654947, -0.11291...\n",
              "7            7     A  [0.0, 0.0, 0.0, -0.3873291160841433, -0.109510...\n",
              "8            8     A  [0.0, 0.0, 0.0, -0.3849290013928529, -0.120483...\n",
              "9            9     A  [0.0, 0.0, 0.0, -0.3885912209548652, -0.116387...\n",
              "10          10     A  [0.0, 0.0, 0.0, -0.4006768964735606, -0.117712...\n",
              "11          11     A  [0.0, 0.0, 0.0, -0.41014463404821344, -0.12046...\n",
              "12          12     A  [0.0, 0.0, 0.0, -0.37775849476486434, -0.10485...\n",
              "13          13     A  [0.0, 0.0, 0.0, -0.3881046663811512, -0.126997...\n",
              "14          14     A  [0.0, 0.0, 0.0, -0.40961097160161064, -0.11405...\n",
              "15          15     A  [0.0, 0.0, 0.0, -0.4043008308507464, -0.113018...\n",
              "16          16     A  [0.0, 0.0, 0.0, -0.40257967063040806, -0.11713...\n",
              "17          17     A  [0.0, 0.0, 0.0, -0.4051350316906536, -0.112180...\n",
              "18          18     A  [0.0, 0.0, 0.0, -0.4105268119361534, -0.110637...\n",
              "19          19     A  [0.0, 0.0, 0.0, -0.4066384938120348, -0.115766..."
            ],
            "text/html": [
              "\n",
              "  <div id=\"df-fd52dc28-a149-4d70-b64c-7c3d59d7139c\" class=\"colab-df-container\">\n",
              "    <div>\n",
              "<style scoped>\n",
              "    .dataframe tbody tr th:only-of-type {\n",
              "        vertical-align: middle;\n",
              "    }\n",
              "\n",
              "    .dataframe tbody tr th {\n",
              "        vertical-align: top;\n",
              "    }\n",
              "\n",
              "    .dataframe thead th {\n",
              "        text-align: right;\n",
              "    }\n",
              "</style>\n",
              "<table border=\"1\" class=\"dataframe\">\n",
              "  <thead>\n",
              "    <tr style=\"text-align: right;\">\n",
              "      <th></th>\n",
              "      <th>Unnamed: 0</th>\n",
              "      <th>label</th>\n",
              "      <th>landmarks</th>\n",
              "    </tr>\n",
              "  </thead>\n",
              "  <tbody>\n",
              "    <tr>\n",
              "      <th>0</th>\n",
              "      <td>0</td>\n",
              "      <td>A</td>\n",
              "      <td>[0.0, 0.0, 0.0, -0.33296008560803314, -0.16070...</td>\n",
              "    </tr>\n",
              "    <tr>\n",
              "      <th>1</th>\n",
              "      <td>1</td>\n",
              "      <td>A</td>\n",
              "      <td>[0.0, 0.0, 0.0, -0.35644034016925447, -0.12055...</td>\n",
              "    </tr>\n",
              "    <tr>\n",
              "      <th>2</th>\n",
              "      <td>2</td>\n",
              "      <td>A</td>\n",
              "      <td>[0.0, 0.0, 0.0, -0.3758913066102671, -0.158168...</td>\n",
              "    </tr>\n",
              "    <tr>\n",
              "      <th>3</th>\n",
              "      <td>3</td>\n",
              "      <td>A</td>\n",
              "      <td>[0.0, 0.0, 0.0, -0.38806661691919003, -0.13577...</td>\n",
              "    </tr>\n",
              "    <tr>\n",
              "      <th>4</th>\n",
              "      <td>4</td>\n",
              "      <td>A</td>\n",
              "      <td>[0.0, 0.0, 0.0, -0.38245503947281784, -0.12714...</td>\n",
              "    </tr>\n",
              "    <tr>\n",
              "      <th>5</th>\n",
              "      <td>5</td>\n",
              "      <td>A</td>\n",
              "      <td>[0.0, 0.0, 0.0, -0.3973856632972975, -0.118951...</td>\n",
              "    </tr>\n",
              "    <tr>\n",
              "      <th>6</th>\n",
              "      <td>6</td>\n",
              "      <td>A</td>\n",
              "      <td>[0.0, 0.0, 0.0, -0.37178776428654947, -0.11291...</td>\n",
              "    </tr>\n",
              "    <tr>\n",
              "      <th>7</th>\n",
              "      <td>7</td>\n",
              "      <td>A</td>\n",
              "      <td>[0.0, 0.0, 0.0, -0.3873291160841433, -0.109510...</td>\n",
              "    </tr>\n",
              "    <tr>\n",
              "      <th>8</th>\n",
              "      <td>8</td>\n",
              "      <td>A</td>\n",
              "      <td>[0.0, 0.0, 0.0, -0.3849290013928529, -0.120483...</td>\n",
              "    </tr>\n",
              "    <tr>\n",
              "      <th>9</th>\n",
              "      <td>9</td>\n",
              "      <td>A</td>\n",
              "      <td>[0.0, 0.0, 0.0, -0.3885912209548652, -0.116387...</td>\n",
              "    </tr>\n",
              "    <tr>\n",
              "      <th>10</th>\n",
              "      <td>10</td>\n",
              "      <td>A</td>\n",
              "      <td>[0.0, 0.0, 0.0, -0.4006768964735606, -0.117712...</td>\n",
              "    </tr>\n",
              "    <tr>\n",
              "      <th>11</th>\n",
              "      <td>11</td>\n",
              "      <td>A</td>\n",
              "      <td>[0.0, 0.0, 0.0, -0.41014463404821344, -0.12046...</td>\n",
              "    </tr>\n",
              "    <tr>\n",
              "      <th>12</th>\n",
              "      <td>12</td>\n",
              "      <td>A</td>\n",
              "      <td>[0.0, 0.0, 0.0, -0.37775849476486434, -0.10485...</td>\n",
              "    </tr>\n",
              "    <tr>\n",
              "      <th>13</th>\n",
              "      <td>13</td>\n",
              "      <td>A</td>\n",
              "      <td>[0.0, 0.0, 0.0, -0.3881046663811512, -0.126997...</td>\n",
              "    </tr>\n",
              "    <tr>\n",
              "      <th>14</th>\n",
              "      <td>14</td>\n",
              "      <td>A</td>\n",
              "      <td>[0.0, 0.0, 0.0, -0.40961097160161064, -0.11405...</td>\n",
              "    </tr>\n",
              "    <tr>\n",
              "      <th>15</th>\n",
              "      <td>15</td>\n",
              "      <td>A</td>\n",
              "      <td>[0.0, 0.0, 0.0, -0.4043008308507464, -0.113018...</td>\n",
              "    </tr>\n",
              "    <tr>\n",
              "      <th>16</th>\n",
              "      <td>16</td>\n",
              "      <td>A</td>\n",
              "      <td>[0.0, 0.0, 0.0, -0.40257967063040806, -0.11713...</td>\n",
              "    </tr>\n",
              "    <tr>\n",
              "      <th>17</th>\n",
              "      <td>17</td>\n",
              "      <td>A</td>\n",
              "      <td>[0.0, 0.0, 0.0, -0.4051350316906536, -0.112180...</td>\n",
              "    </tr>\n",
              "    <tr>\n",
              "      <th>18</th>\n",
              "      <td>18</td>\n",
              "      <td>A</td>\n",
              "      <td>[0.0, 0.0, 0.0, -0.4105268119361534, -0.110637...</td>\n",
              "    </tr>\n",
              "    <tr>\n",
              "      <th>19</th>\n",
              "      <td>19</td>\n",
              "      <td>A</td>\n",
              "      <td>[0.0, 0.0, 0.0, -0.4066384938120348, -0.115766...</td>\n",
              "    </tr>\n",
              "  </tbody>\n",
              "</table>\n",
              "</div>\n",
              "    <div class=\"colab-df-buttons\">\n",
              "\n",
              "  <div class=\"colab-df-container\">\n",
              "    <button class=\"colab-df-convert\" onclick=\"convertToInteractive('df-fd52dc28-a149-4d70-b64c-7c3d59d7139c')\"\n",
              "            title=\"Convert this dataframe to an interactive table.\"\n",
              "            style=\"display:none;\">\n",
              "\n",
              "  <svg xmlns=\"http://www.w3.org/2000/svg\" height=\"24px\" viewBox=\"0 -960 960 960\">\n",
              "    <path d=\"M120-120v-720h720v720H120Zm60-500h600v-160H180v160Zm220 220h160v-160H400v160Zm0 220h160v-160H400v160ZM180-400h160v-160H180v160Zm440 0h160v-160H620v160ZM180-180h160v-160H180v160Zm440 0h160v-160H620v160Z\"/>\n",
              "  </svg>\n",
              "    </button>\n",
              "\n",
              "  <style>\n",
              "    .colab-df-container {\n",
              "      display:flex;\n",
              "      gap: 12px;\n",
              "    }\n",
              "\n",
              "    .colab-df-convert {\n",
              "      background-color: #E8F0FE;\n",
              "      border: none;\n",
              "      border-radius: 50%;\n",
              "      cursor: pointer;\n",
              "      display: none;\n",
              "      fill: #1967D2;\n",
              "      height: 32px;\n",
              "      padding: 0 0 0 0;\n",
              "      width: 32px;\n",
              "    }\n",
              "\n",
              "    .colab-df-convert:hover {\n",
              "      background-color: #E2EBFA;\n",
              "      box-shadow: 0px 1px 2px rgba(60, 64, 67, 0.3), 0px 1px 3px 1px rgba(60, 64, 67, 0.15);\n",
              "      fill: #174EA6;\n",
              "    }\n",
              "\n",
              "    .colab-df-buttons div {\n",
              "      margin-bottom: 4px;\n",
              "    }\n",
              "\n",
              "    [theme=dark] .colab-df-convert {\n",
              "      background-color: #3B4455;\n",
              "      fill: #D2E3FC;\n",
              "    }\n",
              "\n",
              "    [theme=dark] .colab-df-convert:hover {\n",
              "      background-color: #434B5C;\n",
              "      box-shadow: 0px 1px 3px 1px rgba(0, 0, 0, 0.15);\n",
              "      filter: drop-shadow(0px 1px 2px rgba(0, 0, 0, 0.3));\n",
              "      fill: #FFFFFF;\n",
              "    }\n",
              "  </style>\n",
              "\n",
              "    <script>\n",
              "      const buttonEl =\n",
              "        document.querySelector('#df-fd52dc28-a149-4d70-b64c-7c3d59d7139c button.colab-df-convert');\n",
              "      buttonEl.style.display =\n",
              "        google.colab.kernel.accessAllowed ? 'block' : 'none';\n",
              "\n",
              "      async function convertToInteractive(key) {\n",
              "        const element = document.querySelector('#df-fd52dc28-a149-4d70-b64c-7c3d59d7139c');\n",
              "        const dataTable =\n",
              "          await google.colab.kernel.invokeFunction('convertToInteractive',\n",
              "                                                    [key], {});\n",
              "        if (!dataTable) return;\n",
              "\n",
              "        const docLinkHtml = 'Like what you see? Visit the ' +\n",
              "          '<a target=\"_blank\" href=https://colab.research.google.com/notebooks/data_table.ipynb>data table notebook</a>'\n",
              "          + ' to learn more about interactive tables.';\n",
              "        element.innerHTML = '';\n",
              "        dataTable['output_type'] = 'display_data';\n",
              "        await google.colab.output.renderOutput(dataTable, element);\n",
              "        const docLink = document.createElement('div');\n",
              "        docLink.innerHTML = docLinkHtml;\n",
              "        element.appendChild(docLink);\n",
              "      }\n",
              "    </script>\n",
              "  </div>\n",
              "\n",
              "\n",
              "    <div id=\"df-d29b201f-bf51-4a03-936a-f1fa77f9c4d7\">\n",
              "      <button class=\"colab-df-quickchart\" onclick=\"quickchart('df-d29b201f-bf51-4a03-936a-f1fa77f9c4d7')\"\n",
              "                title=\"Suggest charts\"\n",
              "                style=\"display:none;\">\n",
              "\n",
              "<svg xmlns=\"http://www.w3.org/2000/svg\" height=\"24px\"viewBox=\"0 0 24 24\"\n",
              "     width=\"24px\">\n",
              "    <g>\n",
              "        <path d=\"M19 3H5c-1.1 0-2 .9-2 2v14c0 1.1.9 2 2 2h14c1.1 0 2-.9 2-2V5c0-1.1-.9-2-2-2zM9 17H7v-7h2v7zm4 0h-2V7h2v10zm4 0h-2v-4h2v4z\"/>\n",
              "    </g>\n",
              "</svg>\n",
              "      </button>\n",
              "\n",
              "<style>\n",
              "  .colab-df-quickchart {\n",
              "      --bg-color: #E8F0FE;\n",
              "      --fill-color: #1967D2;\n",
              "      --hover-bg-color: #E2EBFA;\n",
              "      --hover-fill-color: #174EA6;\n",
              "      --disabled-fill-color: #AAA;\n",
              "      --disabled-bg-color: #DDD;\n",
              "  }\n",
              "\n",
              "  [theme=dark] .colab-df-quickchart {\n",
              "      --bg-color: #3B4455;\n",
              "      --fill-color: #D2E3FC;\n",
              "      --hover-bg-color: #434B5C;\n",
              "      --hover-fill-color: #FFFFFF;\n",
              "      --disabled-bg-color: #3B4455;\n",
              "      --disabled-fill-color: #666;\n",
              "  }\n",
              "\n",
              "  .colab-df-quickchart {\n",
              "    background-color: var(--bg-color);\n",
              "    border: none;\n",
              "    border-radius: 50%;\n",
              "    cursor: pointer;\n",
              "    display: none;\n",
              "    fill: var(--fill-color);\n",
              "    height: 32px;\n",
              "    padding: 0;\n",
              "    width: 32px;\n",
              "  }\n",
              "\n",
              "  .colab-df-quickchart:hover {\n",
              "    background-color: var(--hover-bg-color);\n",
              "    box-shadow: 0 1px 2px rgba(60, 64, 67, 0.3), 0 1px 3px 1px rgba(60, 64, 67, 0.15);\n",
              "    fill: var(--button-hover-fill-color);\n",
              "  }\n",
              "\n",
              "  .colab-df-quickchart-complete:disabled,\n",
              "  .colab-df-quickchart-complete:disabled:hover {\n",
              "    background-color: var(--disabled-bg-color);\n",
              "    fill: var(--disabled-fill-color);\n",
              "    box-shadow: none;\n",
              "  }\n",
              "\n",
              "  .colab-df-spinner {\n",
              "    border: 2px solid var(--fill-color);\n",
              "    border-color: transparent;\n",
              "    border-bottom-color: var(--fill-color);\n",
              "    animation:\n",
              "      spin 1s steps(1) infinite;\n",
              "  }\n",
              "\n",
              "  @keyframes spin {\n",
              "    0% {\n",
              "      border-color: transparent;\n",
              "      border-bottom-color: var(--fill-color);\n",
              "      border-left-color: var(--fill-color);\n",
              "    }\n",
              "    20% {\n",
              "      border-color: transparent;\n",
              "      border-left-color: var(--fill-color);\n",
              "      border-top-color: var(--fill-color);\n",
              "    }\n",
              "    30% {\n",
              "      border-color: transparent;\n",
              "      border-left-color: var(--fill-color);\n",
              "      border-top-color: var(--fill-color);\n",
              "      border-right-color: var(--fill-color);\n",
              "    }\n",
              "    40% {\n",
              "      border-color: transparent;\n",
              "      border-right-color: var(--fill-color);\n",
              "      border-top-color: var(--fill-color);\n",
              "    }\n",
              "    60% {\n",
              "      border-color: transparent;\n",
              "      border-right-color: var(--fill-color);\n",
              "    }\n",
              "    80% {\n",
              "      border-color: transparent;\n",
              "      border-right-color: var(--fill-color);\n",
              "      border-bottom-color: var(--fill-color);\n",
              "    }\n",
              "    90% {\n",
              "      border-color: transparent;\n",
              "      border-bottom-color: var(--fill-color);\n",
              "    }\n",
              "  }\n",
              "</style>\n",
              "\n",
              "      <script>\n",
              "        async function quickchart(key) {\n",
              "          const quickchartButtonEl =\n",
              "            document.querySelector('#' + key + ' button');\n",
              "          quickchartButtonEl.disabled = true;  // To prevent multiple clicks.\n",
              "          quickchartButtonEl.classList.add('colab-df-spinner');\n",
              "          try {\n",
              "            const charts = await google.colab.kernel.invokeFunction(\n",
              "                'suggestCharts', [key], {});\n",
              "          } catch (error) {\n",
              "            console.error('Error during call to suggestCharts:', error);\n",
              "          }\n",
              "          quickchartButtonEl.classList.remove('colab-df-spinner');\n",
              "          quickchartButtonEl.classList.add('colab-df-quickchart-complete');\n",
              "        }\n",
              "        (() => {\n",
              "          let quickchartButtonEl =\n",
              "            document.querySelector('#df-d29b201f-bf51-4a03-936a-f1fa77f9c4d7 button');\n",
              "          quickchartButtonEl.style.display =\n",
              "            google.colab.kernel.accessAllowed ? 'block' : 'none';\n",
              "        })();\n",
              "      </script>\n",
              "    </div>\n",
              "\n",
              "    </div>\n",
              "  </div>\n"
            ],
            "application/vnd.google.colaboratory.intrinsic+json": {
              "type": "dataframe",
              "variable_name": "df_libras_landmarks",
              "summary": "{\n  \"name\": \"df_libras_landmarks\",\n  \"rows\": 32661,\n  \"fields\": [\n    {\n      \"column\": \"Unnamed: 0\",\n      \"properties\": {\n        \"dtype\": \"number\",\n        \"std\": 9428,\n        \"min\": 0,\n        \"max\": 32660,\n        \"num_unique_values\": 32661,\n        \"samples\": [\n          19241,\n          26666,\n          14816\n        ],\n        \"semantic_type\": \"\",\n        \"description\": \"\"\n      }\n    },\n    {\n      \"column\": \"label\",\n      \"properties\": {\n        \"dtype\": \"category\",\n        \"num_unique_values\": 21,\n        \"samples\": [\n          \"A\",\n          \"U\",\n          \"S\"\n        ],\n        \"semantic_type\": \"\",\n        \"description\": \"\"\n      }\n    },\n    {\n      \"column\": \"landmarks\",\n      \"properties\": {\n        \"dtype\": \"string\",\n        \"num_unique_values\": 32661,\n        \"samples\": [\n          \"[0.0, 0.0, 0.0, 0.11759207560368087, 0.23033554659868707, -0.002885734947422457, 0.11266152199729862, 0.44485300939292977, -0.003142652397738801, 0.03395070910281142, 0.5834947214655671, -0.002522173246080484, -0.03789229802232281, 0.6617443892871399, 0.0015235818296675965, 0.042843600286618516, 0.48552648868596393, -0.022362763269176487, -0.003057679690297167, 0.7206043132728324, -0.04032981960807703, -0.03809617613921152, 0.8606321669108974, -0.05549636326240242, -0.06993007107707001, 0.9714042488699823, -0.0607807409438256, -0.09351018270115911, 0.47208148137380473, -0.02737127042394727, -0.1405024074286428, 0.7113207240404099, -0.03132201120331648, -0.17131256522526164, 0.8763412792560433, -0.04111736649322679, -0.20038069686745907, 1.0, -0.04573435036866973, -0.2047497655473415, 0.44556330238181674, -0.028880330360279642, -0.21569984925853994, 0.6600113432830802, -0.026247693180640613, -0.1655051962983984, 0.7202178797705076, -0.013382186196513192, -0.12625234398839108, 0.7224352798205627, 0.0037939195009022006, -0.28313987635973165, 0.41688074313163553, -0.03172921899183779, -0.2735819619861214, 0.5936235109685668, -0.020636142275663908, -0.2202641439469717, 0.6429203539187972, 0.008456406072450759, -0.18102412628108866, 0.6385263950504692, 0.03919938893580205]\",\n          \"[0.0, 0.0, 0.0, -0.11695126048135304, -0.10517622403149433, -0.06313145206054578, -0.166945904833623, -0.24042800934943678, -0.11477405054060577, -0.09938435594399002, -0.344530401734377, -0.1734142239276428, 0.00491533200139479, -0.40844707030447647, -0.23072555492875374, -0.11593451070891002, -0.5062347803658788, -0.06926547363014786, -0.11266484238288621, -0.708557641103374, -0.1399538594995637, -0.10550503589212826, -0.8303780023345304, -0.1870102122709499, -0.09502595219806802, -0.936889866223646, -0.21794343715998118, -0.006581641413777851, -0.5031792112880926, -0.09641282343737198, 0.008342651006361463, -0.7450650883247006, -0.16852404468253623, 0.003960097236777092, -0.8847642356050976, -0.21609627700221734, 0.0060730132056298096, -1.0, -0.24319093584872356, 0.09306697151990243, -0.4444717281541609, -0.13111198486157657, 0.10565804233575145, -0.6195328009041229, -0.230051211960335, 0.048263568967337814, -0.5090428117011255, -0.24079166055209097, 0.01591161462878395, -0.4125182914263574, -0.22191670713693776, 0.18060084330024934, -0.34905118483520375, -0.17032521635555486, 0.14598773744550253, -0.45825809848033444, -0.2419466607659369, 0.09208222475084417, -0.3923460975356125, -0.23292379816652545, 0.06895418618072316, -0.32389091332982933, -0.20941729663817094]\",\n          \"[0.0, 0.0, 0.0, -0.14860706489529568, -0.07435947909664165, -0.05394000409012568, -0.26200194277049565, -0.23975203529595293, -0.09213983460391223, -0.33491438005830776, -0.34998876665238143, -0.13245825379018825, -0.4293370273674632, -0.3832640375468482, -0.17473975769597744, -0.18907185433693494, -0.43781417718897975, -0.025669333718097626, -0.2696883784856391, -0.5134163673748371, -0.12847956008765926, -0.3316010707246636, -0.5054050361315873, -0.2182992199602048, -0.3755047963577191, -0.4855158923697398, -0.26558005875673646, -0.08722342283271221, -0.48278806405754854, -0.05289131804845806, -0.11766984451849612, -0.71204343396746, -0.12240886447581334, -0.12514411434209735, -0.8677408892796888, -0.1836720517744538, -0.1255138200107826, -1.0, -0.2215946580590012, 0.020811757265317234, -0.4716688986635838, -0.09626078289565107, 0.01776541600889371, -0.7003400640688171, -0.16996517779324627, 0.015510074974672147, -0.8477250622323936, -0.22371884799906303, 0.00742541004359877, -0.9739090095321469, -0.25059401592704567, 0.13206794132882402, -0.4168508665700153, -0.14385280566941464, 0.14041495246603672, -0.6062765361426797, -0.19076021929148607, 0.13951998215341513, -0.7314712269597525, -0.20476572116682126, 0.12363527151423766, -0.8405730468677095, -0.2101192344403068]\"\n        ],\n        \"semantic_type\": \"\",\n        \"description\": \"\"\n      }\n    }\n  ]\n}"
            }
          },
          "metadata": {},
          "execution_count": 25
        }
      ]
    },
    {
      "cell_type": "code",
      "source": [
        "print(\"Tipo de dado da coluna 'landmarks':\", df_libras_landmarks['landmarks'].dtype)"
      ],
      "metadata": {
        "id": "GsNaWMON1O2A",
        "colab": {
          "base_uri": "https://localhost:8080/"
        },
        "outputId": "d45431c0-5239-4b57-e838-9860dd63c373"
      },
      "execution_count": 26,
      "outputs": [
        {
          "output_type": "stream",
          "name": "stdout",
          "text": [
            "Tipo de dado da coluna 'landmarks': object\n"
          ]
        }
      ]
    },
    {
      "cell_type": "code",
      "source": [
        "print(\"Primeiro valor da coluna 'landmarks':\\n\", df_libras_landmarks['landmarks'].iloc[0])"
      ],
      "metadata": {
        "id": "82DQn3Q11SQD",
        "colab": {
          "base_uri": "https://localhost:8080/"
        },
        "outputId": "72f72376-fc32-4b22-c48e-bc9a72ca1c87"
      },
      "execution_count": 27,
      "outputs": [
        {
          "output_type": "stream",
          "name": "stdout",
          "text": [
            "Primeiro valor da coluna 'landmarks':\n",
            " [0.0, 0.0, 0.0, -0.33296008560803314, -0.160703444693051, -0.05618833437161321, -0.4998571795935292, -0.48581435987841837, -0.06663177444970673, -0.49211072550323337, -0.7821645980363194, -0.0920418119666392, -0.5072742760512868, -1.0, -0.0955207494264799, -0.2840804187790615, -0.7591753209248607, 0.06104229399606988, -0.27944581211841674, -0.98942666352765, -0.07618018931993353, -0.30041434292190644, -0.760869984463115, -0.14260072968581472, -0.2913046622038777, -0.6167796069821531, -0.15776182408675057, -0.07593928653838526, -0.7474967962224925, 0.02941539399733304, -0.07189581860836315, -0.983073637577793, -0.09739599825757479, -0.11467987410179739, -0.7032387925487202, -0.11252310296122908, -0.10274700172013469, -0.5887338896892088, -0.08283928498891706, 0.12090471256399044, -0.7003111691483802, -0.0317768018798018, 0.12361349195659903, -0.9041685209061264, -0.15893786371404622, 0.06372539973729362, -0.6453524212438376, -0.09652513166077534, 0.06302998521581372, -0.5368743576005693, -0.014703423133131308, 0.3219551949902708, -0.6276094743756799, -0.10055958722028903, 0.32206373330099364, -0.8312778717467032, -0.15063804877498493, 0.2511682553303461, -0.6592532782546457, -0.07791420319401984, 0.23168230171082474, -0.5592298707827499, -0.003308780994870967]\n"
          ]
        }
      ]
    },
    {
      "cell_type": "markdown",
      "source": [
        "## Preparação do Dataset"
      ],
      "metadata": {
        "id": "mAshIVh0tzIX"
      }
    },
    {
      "cell_type": "markdown",
      "source": [
        "### Funções Auxiliares"
      ],
      "metadata": {
        "id": "-IuRRQ2Ct1c3"
      }
    },
    {
      "cell_type": "markdown",
      "source": [
        "O dataset possui um campo de texto que corresponde a uma lsita dos landmarks. Porém, por conta de se tratar de um arquivo `CSV`, esse campo vem em formato de string. A função abaixo faz essa verificaçãoe  converte para uma lista Python."
      ],
      "metadata": {
        "id": "ZnQNhX1_uAEA"
      }
    },
    {
      "cell_type": "code",
      "source": [
        "from ast import literal_eval\n",
        "\n",
        "# Função para converter a string em lista, tratando possíveis erros\n",
        "def converte_lista_landmarks(landmark_string: str): # def parse_landmarks(landmark_string):\n",
        "    \"\"\"Converte a string de landmarks em uma lista reconhecida pelo Python.\n",
        "    Args:\n",
        "        landmark_string (str): Uma lista de números (inteiros ou floats).\n",
        "\n",
        "    Returns:\n",
        "        list: Para essa função em específico, retorna uma lista reconhecida pelo Python.\n",
        "    \"\"\"\n",
        "\n",
        "    if not isinstance(landmark_string, str): # Faz uma verificação adicional para garantir que a entrada é uma string.\n",
        "        return None\n",
        "    try:\n",
        "        return literal_eval(landmark_string)\n",
        "    except (ValueError, SyntaxError): #Se durante a tentativa a conversão falhar, a função para e retorna 'None'.\n",
        "        return None"
      ],
      "metadata": {
        "id": "NX3DuDjduBZ-"
      },
      "execution_count": 28,
      "outputs": []
    },
    {
      "cell_type": "markdown",
      "source": [
        "Aplicando a função no DataFrame:"
      ],
      "metadata": {
        "id": "MIaLYf8P1-y9"
      }
    },
    {
      "cell_type": "code",
      "source": [
        "df_libras_landmarks['landmarks'] = df_libras_landmarks['landmarks'].apply(converte_lista_landmarks)\n",
        "\n",
        "# Remove as linhas onde a conversão falhou\n",
        "df_libras_landmarks = df_libras_landmarks.dropna(subset=['landmarks'])"
      ],
      "metadata": {
        "id": "TYcqPRd715je"
      },
      "execution_count": 29,
      "outputs": []
    },
    {
      "cell_type": "code",
      "source": [
        "print(f\"O total de linhas no DataFrame original é: {tamanho_original}\")\n",
        "print(f\"Total de linhas removidas após o pré-processamento: {tamanho_original - len(df_libras_landmarks)}\")"
      ],
      "metadata": {
        "id": "qzwD7Pym2MVX",
        "colab": {
          "base_uri": "https://localhost:8080/"
        },
        "outputId": "405d98af-38b9-4af8-e84a-5e6367a6dfed"
      },
      "execution_count": 30,
      "outputs": [
        {
          "output_type": "stream",
          "name": "stdout",
          "text": [
            "O total de linhas no DataFrame original é: 32661\n",
            "Total de linhas removidas após o pré-processamento: 0\n"
          ]
        }
      ]
    },
    {
      "cell_type": "markdown",
      "source": [
        "### Separação em Sub Datasets"
      ],
      "metadata": {
        "id": "gDREmVr-xjG5"
      }
    },
    {
      "cell_type": "markdown",
      "source": [
        "Nesse projeto, os dados do dataset foram separado da seguinte forma:\n",
        "- 60% para treino\n",
        "- 20% para validação\n",
        "- 20% para teste"
      ],
      "metadata": {
        "id": "73YLlz9yyjJX"
      }
    },
    {
      "cell_type": "markdown",
      "source": [
        "Iniciando com a separação dos datasets de treino, teste e validação:"
      ],
      "metadata": {
        "id": "LZJ_6JQR0HkG"
      }
    },
    {
      "cell_type": "code",
      "source": [
        "# Bibliotecas necessárias\n",
        "import numpy as np\n",
        "from sklearn.model_selection import train_test_split\n",
        "from sklearn.preprocessing import LabelEncoder\n",
        "\n",
        "# Separação Inicial entre os dados de features 'X' e os rótulos das letras 'Y'\n",
        "X = np.array(df_libras_landmarks['landmarks'].tolist())\n",
        "y = df_libras_landmarks['label']\n",
        "\n",
        "# Tranformação dos rótulos em números represetando as classes\n",
        "encoder = LabelEncoder()\n",
        "y_encoded = encoder.fit_transform(y)\n",
        "\n",
        "# Divisão Inicial para separação do dataset de Teste (20% para o teste)\n",
        "X_temp, X_test, y_temp, y_test = train_test_split(\n",
        "    X,\n",
        "    y_encoded,\n",
        "    test_size=0.2,\n",
        "    random_state=42,\n",
        "    stratify=y_encoded\n",
        ")\n",
        "\n",
        "# Segunda divisão a partir do dataset X_temp e y_temp para as partes de treino (60%) e validação (20%)\n",
        "X_train, X_val, y_train, y_val = train_test_split(\n",
        "    X_temp,\n",
        "    y_temp,\n",
        "    test_size=0.25, # 25% de 80% de dados restantes correspondem a 20% do dataset original.\n",
        "    random_state=42,\n",
        "    stratify=y_temp\n",
        ")"
      ],
      "metadata": {
        "id": "CwQ_mqNs3d70"
      },
      "execution_count": 31,
      "outputs": []
    },
    {
      "cell_type": "markdown",
      "source": [
        "No momento da criação do dataset de landmarks, houve erros na extração desses pontos seja com a extração errada de pontos o que acarretou em anomalias desses valores ou as vezes do não reconhecimento da mão na imagem. Por conta disso, algumas classes tiveram mais exemplares de landmarks do que outras o que acarretou em um desbalenceamento dessas classes. Por conta disso, abaixo tem-se o código para tentar dar uma equilibrada nessas classes para que o modelo não aprenda mais um símbolo do que outro."
      ],
      "metadata": {
        "id": "UjHOkJdA4lmv"
      }
    },
    {
      "cell_type": "code",
      "source": [
        "# Importação da biblioteca necessária\n",
        "from sklearn.utils.class_weight import compute_class_weight\n",
        "\n",
        "# Calcular os Pesos das Classes\n",
        "classes_unicas = np.unique(y_train) # Lista todas as letras\n",
        "\n",
        "# Calcula os pesos de cada classe para que o dataset fique de forma balenceada no momento do treino.\n",
        "pesos_calculados = compute_class_weight(\n",
        "    class_weight='balanced',\n",
        "    classes=classes_unicas, y=y_train\n",
        ")\n",
        "\n",
        "pesos_de_classe = dict(zip(classes_unicas, pesos_calculados)) # Para cada letra, tem-se o peso dela aplicado no treinamento."
      ],
      "metadata": {
        "id": "eKTLGGNW_lls"
      },
      "execution_count": 32,
      "outputs": []
    },
    {
      "cell_type": "markdown",
      "source": [
        "Logo, para esse projeto, o peso de cada letra pode ser visualizado a seguir:"
      ],
      "metadata": {
        "id": "W7F1hxvkMeg2"
      }
    },
    {
      "cell_type": "code",
      "source": [
        "print(\"Pesos calculados para cada classe:\")\n",
        "for chave, valor in enumerate(pesos_de_classe):\n",
        "    print(f\"{encoder.classes_[chave]}: {pesos_de_classe[valor]:.3f}\")"
      ],
      "metadata": {
        "id": "uBZoPwTjMjEZ",
        "colab": {
          "base_uri": "https://localhost:8080/"
        },
        "outputId": "f133026f-bfc8-4e44-84d8-6815ed045146"
      },
      "execution_count": 33,
      "outputs": [
        {
          "output_type": "stream",
          "name": "stdout",
          "text": [
            "Pesos calculados para cada classe:\n",
            "A: 0.924\n",
            "B: 0.700\n",
            "C: 6.059\n",
            "D: 1.057\n",
            "E: 0.703\n",
            "F: 0.749\n",
            "G: 0.835\n",
            "I: 1.201\n",
            "L: 1.488\n",
            "M: 1.731\n",
            "N: 1.715\n",
            "O: 2.232\n",
            "P: 5.425\n",
            "Q: 0.766\n",
            "R: 0.964\n",
            "S: 0.707\n",
            "T: 0.719\n",
            "U: 0.928\n",
            "V: 0.707\n",
            "W: 0.933\n",
            "Y: 0.708\n"
          ]
        }
      ]
    },
    {
      "cell_type": "markdown",
      "source": [
        "O resumo geral do processo está abaixo:"
      ],
      "metadata": {
        "id": "j488AmQCL_1M"
      }
    },
    {
      "cell_type": "code",
      "source": [
        "print(\"========================= Formato dos conjuntos de dados =========================\")\n",
        "print(f\"Dados de Treino: {X_train.shape}, Rótulos de Treino: {y_train.shape}\")\n",
        "print(f\"Dados de Validação: {X_val.shape}, Rótulos de Validação: {y_val.shape}\")\n",
        "print(f\"Dados de Teste: {X_test.shape}, Rótulos de Teste: {y_test.shape}\")"
      ],
      "metadata": {
        "id": "VEhugTGw6Dbu",
        "colab": {
          "base_uri": "https://localhost:8080/"
        },
        "outputId": "54c9ec95-5690-44e9-bcb9-89f998869298"
      },
      "execution_count": 34,
      "outputs": [
        {
          "output_type": "stream",
          "name": "stdout",
          "text": [
            "========================= Formato dos conjuntos de dados =========================\n",
            "Dados de Treino: (19596, 63), Rótulos de Treino: (19596,)\n",
            "Dados de Validação: (6532, 63), Rótulos de Validação: (6532,)\n",
            "Dados de Teste: (6533, 63), Rótulos de Teste: (6533,)\n"
          ]
        }
      ]
    },
    {
      "cell_type": "markdown",
      "source": [
        "## Preparando processo de Treinamento"
      ],
      "metadata": {
        "id": "u5-l9GbCN6KR"
      }
    },
    {
      "cell_type": "markdown",
      "source": [
        "### Configuração do Ambiente de Treinamento"
      ],
      "metadata": {
        "id": "emKUI_GxOSrJ"
      }
    },
    {
      "cell_type": "markdown",
      "source": [
        "Utilização das GPU presente no Google Colab para acelerar o processo de treinamento."
      ],
      "metadata": {
        "id": "L5wmdySqOVtU"
      }
    },
    {
      "cell_type": "code",
      "source": [
        "# Biblioteca necessária durante todo o projeto\n",
        "import tensorflow as tf\n",
        "\n",
        "# Configuração do Ambiente e Verificação da GPU\n",
        "print(\"Versão do TensorFlow:\", tf.__version__)\n",
        "\n",
        "# Verifica se a GPU está disponível e a seleciona\n",
        "gpus = tf.config.list_physical_devices('GPU')\n",
        "if gpus:\n",
        "    try:\n",
        "        # Configura TensorFlow para usar a primeira GPU encontrada\n",
        "        tf.config.experimental.set_visible_devices(gpus[0], 'GPU')\n",
        "        logical_gpus = tf.config.experimental.list_logical_devices('GPU')\n",
        "        print(f\"GPU disponível: {len(gpus)} Física(s), {len(logical_gpus)} Lógica(s)\")\n",
        "        print(f\"Usando a GPU: {gpus[0].name}\")\n",
        "    except RuntimeError as e:\n",
        "        print(e)\n",
        "else:\n",
        "    print(\"Nenhuma GPU encontrada. O treinamento será executado na CPU.\")"
      ],
      "metadata": {
        "id": "HDwQWqsHOe_B",
        "colab": {
          "base_uri": "https://localhost:8080/"
        },
        "outputId": "98bad4a0-5370-495b-ce1f-66926db5d2cd"
      },
      "execution_count": 35,
      "outputs": [
        {
          "output_type": "stream",
          "name": "stdout",
          "text": [
            "Versão do TensorFlow: 2.19.0\n",
            "GPU disponível: 1 Física(s), 1 Lógica(s)\n",
            "Usando a GPU: /physical_device:GPU:0\n"
          ]
        }
      ]
    },
    {
      "cell_type": "markdown",
      "source": [
        "## Criação do Modelo e Treinamento"
      ],
      "metadata": {
        "id": "q-X_nWQei8U9"
      }
    },
    {
      "cell_type": "markdown",
      "source": [
        "Para esse projeto, alguns hiperparâmetros foram selecionados. Os parâmetros no treinamento estão listados abaixo:"
      ],
      "metadata": {
        "id": "5EVOLWhpjApY"
      }
    },
    {
      "cell_type": "markdown",
      "source": [
        "### Construção do Modelo"
      ],
      "metadata": {
        "id": "0actamntxDnD"
      }
    },
    {
      "cell_type": "markdown",
      "source": [
        "O modelo contruído no projeto consiste em uma arquitetura MLP composta de duas camadas ocultas."
      ],
      "metadata": {
        "id": "Y1Oj8nOAxGIN"
      }
    },
    {
      "cell_type": "code",
      "source": [
        "# Hiperparâmetros utilizados na arquiteura do modelo\n",
        "INPUT_SHAPE = (X_train.shape[1],)       # Formato da entrada (63 neurônios).\n",
        "NUM_CLASSES = len(np.unique(y_encoded)) # Número de classes (21).\n",
        "\n",
        "# Construção da Arquitetura do Modelo\n",
        "model = tf.keras.models.Sequential([\n",
        "    tf.keras.layers.InputLayer(input_shape=INPUT_SHAPE), # Camada de entrada com tamanho igual a 63\n",
        "    tf.keras.layers.Dense(128, activation='relu'),\n",
        "    tf.keras.layers.Dropout(0.3),\n",
        "    tf.keras.layers.Dense(64, activation='relu'),\n",
        "    tf.keras.layers.Dropout(0.3),\n",
        "    tf.keras.layers.Dense(NUM_CLASSES, activation='softmax')\n",
        "])\n",
        "\n",
        "# Mostra um resumo da arquitetura\n",
        "model.summary()"
      ],
      "metadata": {
        "id": "2zB5nm5D-QSf",
        "colab": {
          "base_uri": "https://localhost:8080/",
          "height": 362
        },
        "outputId": "c97faec0-cbe4-49f8-f041-dbb1620ac483"
      },
      "execution_count": 36,
      "outputs": [
        {
          "output_type": "stream",
          "name": "stderr",
          "text": [
            "/usr/local/lib/python3.12/dist-packages/keras/src/layers/core/input_layer.py:27: UserWarning: Argument `input_shape` is deprecated. Use `shape` instead.\n",
            "  warnings.warn(\n"
          ]
        },
        {
          "output_type": "display_data",
          "data": {
            "text/plain": [
              "\u001b[1mModel: \"sequential\"\u001b[0m\n"
            ],
            "text/html": [
              "<pre style=\"white-space:pre;overflow-x:auto;line-height:normal;font-family:Menlo,'DejaVu Sans Mono',consolas,'Courier New',monospace\"><span style=\"font-weight: bold\">Model: \"sequential\"</span>\n",
              "</pre>\n"
            ]
          },
          "metadata": {}
        },
        {
          "output_type": "display_data",
          "data": {
            "text/plain": [
              "┏━━━━━━━━━━━━━━━━━━━━━━━━━━━━━━━━━┳━━━━━━━━━━━━━━━━━━━━━━━━┳━━━━━━━━━━━━━━━┓\n",
              "┃\u001b[1m \u001b[0m\u001b[1mLayer (type)                   \u001b[0m\u001b[1m \u001b[0m┃\u001b[1m \u001b[0m\u001b[1mOutput Shape          \u001b[0m\u001b[1m \u001b[0m┃\u001b[1m \u001b[0m\u001b[1m      Param #\u001b[0m\u001b[1m \u001b[0m┃\n",
              "┡━━━━━━━━━━━━━━━━━━━━━━━━━━━━━━━━━╇━━━━━━━━━━━━━━━━━━━━━━━━╇━━━━━━━━━━━━━━━┩\n",
              "│ dense (\u001b[38;5;33mDense\u001b[0m)                   │ (\u001b[38;5;45mNone\u001b[0m, \u001b[38;5;34m128\u001b[0m)            │         \u001b[38;5;34m8,192\u001b[0m │\n",
              "├─────────────────────────────────┼────────────────────────┼───────────────┤\n",
              "│ dropout (\u001b[38;5;33mDropout\u001b[0m)               │ (\u001b[38;5;45mNone\u001b[0m, \u001b[38;5;34m128\u001b[0m)            │             \u001b[38;5;34m0\u001b[0m │\n",
              "├─────────────────────────────────┼────────────────────────┼───────────────┤\n",
              "│ dense_1 (\u001b[38;5;33mDense\u001b[0m)                 │ (\u001b[38;5;45mNone\u001b[0m, \u001b[38;5;34m64\u001b[0m)             │         \u001b[38;5;34m8,256\u001b[0m │\n",
              "├─────────────────────────────────┼────────────────────────┼───────────────┤\n",
              "│ dropout_1 (\u001b[38;5;33mDropout\u001b[0m)             │ (\u001b[38;5;45mNone\u001b[0m, \u001b[38;5;34m64\u001b[0m)             │             \u001b[38;5;34m0\u001b[0m │\n",
              "├─────────────────────────────────┼────────────────────────┼───────────────┤\n",
              "│ dense_2 (\u001b[38;5;33mDense\u001b[0m)                 │ (\u001b[38;5;45mNone\u001b[0m, \u001b[38;5;34m21\u001b[0m)             │         \u001b[38;5;34m1,365\u001b[0m │\n",
              "└─────────────────────────────────┴────────────────────────┴───────────────┘\n"
            ],
            "text/html": [
              "<pre style=\"white-space:pre;overflow-x:auto;line-height:normal;font-family:Menlo,'DejaVu Sans Mono',consolas,'Courier New',monospace\">┏━━━━━━━━━━━━━━━━━━━━━━━━━━━━━━━━━┳━━━━━━━━━━━━━━━━━━━━━━━━┳━━━━━━━━━━━━━━━┓\n",
              "┃<span style=\"font-weight: bold\"> Layer (type)                    </span>┃<span style=\"font-weight: bold\"> Output Shape           </span>┃<span style=\"font-weight: bold\">       Param # </span>┃\n",
              "┡━━━━━━━━━━━━━━━━━━━━━━━━━━━━━━━━━╇━━━━━━━━━━━━━━━━━━━━━━━━╇━━━━━━━━━━━━━━━┩\n",
              "│ dense (<span style=\"color: #0087ff; text-decoration-color: #0087ff\">Dense</span>)                   │ (<span style=\"color: #00d7ff; text-decoration-color: #00d7ff\">None</span>, <span style=\"color: #00af00; text-decoration-color: #00af00\">128</span>)            │         <span style=\"color: #00af00; text-decoration-color: #00af00\">8,192</span> │\n",
              "├─────────────────────────────────┼────────────────────────┼───────────────┤\n",
              "│ dropout (<span style=\"color: #0087ff; text-decoration-color: #0087ff\">Dropout</span>)               │ (<span style=\"color: #00d7ff; text-decoration-color: #00d7ff\">None</span>, <span style=\"color: #00af00; text-decoration-color: #00af00\">128</span>)            │             <span style=\"color: #00af00; text-decoration-color: #00af00\">0</span> │\n",
              "├─────────────────────────────────┼────────────────────────┼───────────────┤\n",
              "│ dense_1 (<span style=\"color: #0087ff; text-decoration-color: #0087ff\">Dense</span>)                 │ (<span style=\"color: #00d7ff; text-decoration-color: #00d7ff\">None</span>, <span style=\"color: #00af00; text-decoration-color: #00af00\">64</span>)             │         <span style=\"color: #00af00; text-decoration-color: #00af00\">8,256</span> │\n",
              "├─────────────────────────────────┼────────────────────────┼───────────────┤\n",
              "│ dropout_1 (<span style=\"color: #0087ff; text-decoration-color: #0087ff\">Dropout</span>)             │ (<span style=\"color: #00d7ff; text-decoration-color: #00d7ff\">None</span>, <span style=\"color: #00af00; text-decoration-color: #00af00\">64</span>)             │             <span style=\"color: #00af00; text-decoration-color: #00af00\">0</span> │\n",
              "├─────────────────────────────────┼────────────────────────┼───────────────┤\n",
              "│ dense_2 (<span style=\"color: #0087ff; text-decoration-color: #0087ff\">Dense</span>)                 │ (<span style=\"color: #00d7ff; text-decoration-color: #00d7ff\">None</span>, <span style=\"color: #00af00; text-decoration-color: #00af00\">21</span>)             │         <span style=\"color: #00af00; text-decoration-color: #00af00\">1,365</span> │\n",
              "└─────────────────────────────────┴────────────────────────┴───────────────┘\n",
              "</pre>\n"
            ]
          },
          "metadata": {}
        },
        {
          "output_type": "display_data",
          "data": {
            "text/plain": [
              "\u001b[1m Total params: \u001b[0m\u001b[38;5;34m17,813\u001b[0m (69.58 KB)\n"
            ],
            "text/html": [
              "<pre style=\"white-space:pre;overflow-x:auto;line-height:normal;font-family:Menlo,'DejaVu Sans Mono',consolas,'Courier New',monospace\"><span style=\"font-weight: bold\"> Total params: </span><span style=\"color: #00af00; text-decoration-color: #00af00\">17,813</span> (69.58 KB)\n",
              "</pre>\n"
            ]
          },
          "metadata": {}
        },
        {
          "output_type": "display_data",
          "data": {
            "text/plain": [
              "\u001b[1m Trainable params: \u001b[0m\u001b[38;5;34m17,813\u001b[0m (69.58 KB)\n"
            ],
            "text/html": [
              "<pre style=\"white-space:pre;overflow-x:auto;line-height:normal;font-family:Menlo,'DejaVu Sans Mono',consolas,'Courier New',monospace\"><span style=\"font-weight: bold\"> Trainable params: </span><span style=\"color: #00af00; text-decoration-color: #00af00\">17,813</span> (69.58 KB)\n",
              "</pre>\n"
            ]
          },
          "metadata": {}
        },
        {
          "output_type": "display_data",
          "data": {
            "text/plain": [
              "\u001b[1m Non-trainable params: \u001b[0m\u001b[38;5;34m0\u001b[0m (0.00 B)\n"
            ],
            "text/html": [
              "<pre style=\"white-space:pre;overflow-x:auto;line-height:normal;font-family:Menlo,'DejaVu Sans Mono',consolas,'Courier New',monospace\"><span style=\"font-weight: bold\"> Non-trainable params: </span><span style=\"color: #00af00; text-decoration-color: #00af00\">0</span> (0.00 B)\n",
              "</pre>\n"
            ]
          },
          "metadata": {}
        }
      ]
    },
    {
      "cell_type": "markdown",
      "source": [
        "Agora que a arquitetura do modelo está definida, é necessária compilar a mesma. Esta etapa configura o processo de treinamento. Os parâmetros utilizados esntão listados abaixo:\n",
        "* **Otimizador (`optimizer`):** O algoritmo que ajustará os pesos da rede para minimizar o erro. Para o projeto é o `Adam` e a `learning_rate` (taxa de aprendizado) controla o tamanho dos \"passos\" que o otimizador dá.\n",
        "* **Função de Perda (`loss`):** A métrica que o otimizador tentará minimizar. Como nosso problema é de classificação com múltiplas classes e nossos rótulos são números inteiros (ex: 0, 1, 2...), esse projeto utiliza a `sparse_categorical_crossentropy`.\n",
        "* **Métricas (`metrics`):** As métricas que será usada para monitorar o desempenho do modelo durante o treinamento. A `accuracy` (acurácia) dará a porcentagem de imagens que foram classificadas corretamente."
      ],
      "metadata": {
        "id": "-1bnHnTp-z4K"
      }
    },
    {
      "cell_type": "code",
      "source": [
        "# Hiperparâmetro utilizado na compilação do modelo\n",
        "LEARNING_RATE = 0.001 # Taxa de aprendizagem.\n",
        "\n",
        "# Compilação do Modelo\n",
        "model.compile(\n",
        "    optimizer=tf.keras.optimizers.Adam(learning_rate=LEARNING_RATE),\n",
        "    loss='sparse_categorical_crossentropy',\n",
        "    metrics=['accuracy']\n",
        ")"
      ],
      "metadata": {
        "id": "_J6989RRE8_u"
      },
      "execution_count": 37,
      "outputs": []
    },
    {
      "cell_type": "markdown",
      "source": [
        "No caso, com o projeto em construção, foi deicido então aplicar uma técnica de salvamento do melhor modelo para que durante o treinamento, uma versão mais ruim não sobrescreva um modelo com uma acurária melhor. Além disso, com o decorrer do treinamento, um modelo pode ficar estável com relação ao aprendizado. Nesse caso, tem-se uma espécie de paciêcnia aplciado ao projeto apra que depois de um certo período sem evolução, o treinamento pare."
      ],
      "metadata": {
        "id": "ToZZleb8Gc1D"
      }
    },
    {
      "cell_type": "code",
      "source": [
        "# Hiperparâmetro utilizado na configuração do Callback.\n",
        "\n",
        "MODEL_CHECKPOINT_PATH = 'melhor_modelo_libras.keras' # Nome do melhor modelo que será salvo.\n",
        "PATIENCE = 15 # Paciência para o EarlyStopping.\n",
        "\n",
        "\"\"\" Configuração dos Callbacks \"\"\"\n",
        "# Salva o melhor modelo que encontrar durante o treino\n",
        "model_checkpoint = tf.keras.callbacks.ModelCheckpoint(\n",
        "    filepath=MODEL_CHECKPOINT_PATH,\n",
        "    save_best_only=True,\n",
        "    monitor='val_accuracy', # Salva com base na acurácia da validação\n",
        "    mode='max'\n",
        ")\n",
        "\n",
        "# Para o treinamento se o modelo não melhorar após 'patience' épocas\n",
        "early_stopping = tf.keras.callbacks.EarlyStopping(\n",
        "    monitor='val_accuracy',\n",
        "    patience=PATIENCE,\n",
        "    restore_best_weights=True # Restaura os pesos da melhor época ao final\n",
        ")"
      ],
      "metadata": {
        "id": "9_Xf7-xJG5Os"
      },
      "execution_count": 38,
      "outputs": []
    },
    {
      "cell_type": "markdown",
      "source": [
        "### Treinamento do Modelo"
      ],
      "metadata": {
        "id": "WXSic9_ZHsbj"
      }
    },
    {
      "cell_type": "markdown",
      "source": [
        "Uma vez com tudo definido, agora o processo final consiste em treinar o modelo."
      ],
      "metadata": {
        "id": "jHCLw93hHvZv"
      }
    },
    {
      "cell_type": "code",
      "source": [
        "# Hiperparâmetro utilizado no treinamento do modelo.\n",
        "\n",
        "EPOCHS = 200 # Um número alto, pois o EarlyStopping vai parar quando for o ideal.\n",
        "BATCH_SIZE = 64 # Tamanho do lote a ser enviado.\n",
        "\n",
        "# Treinamento do Modelo\n",
        "print(\"Iniciando o treinamento do modelo...\")\n",
        "history = model.fit(\n",
        "    X_train,\n",
        "    y_train,\n",
        "    epochs=EPOCHS,\n",
        "    batch_size=BATCH_SIZE,\n",
        "    validation_data=(X_val, y_val),\n",
        "    class_weight=pesos_de_classe, # Utilizando os pesos de cada classe.\n",
        "    callbacks=[model_checkpoint, early_stopping] # Processo de salvamento dos modelos e verificação da evolução do treinamento.\n",
        ")\n",
        "print(\"Treinamento concluído.\")"
      ],
      "metadata": {
        "id": "x3_isM_9H1IE",
        "colab": {
          "base_uri": "https://localhost:8080/"
        },
        "outputId": "5d42ac9b-6fc1-47fd-ded2-8a93cc190082"
      },
      "execution_count": 39,
      "outputs": [
        {
          "output_type": "stream",
          "name": "stdout",
          "text": [
            "Iniciando o treinamento do modelo...\n",
            "Epoch 1/200\n",
            "\u001b[1m307/307\u001b[0m \u001b[32m━━━━━━━━━━━━━━━━━━━━\u001b[0m\u001b[37m\u001b[0m \u001b[1m6s\u001b[0m 11ms/step - accuracy: 0.2525 - loss: 2.3434 - val_accuracy: 0.8019 - val_loss: 0.8155\n",
            "Epoch 2/200\n",
            "\u001b[1m307/307\u001b[0m \u001b[32m━━━━━━━━━━━━━━━━━━━━\u001b[0m\u001b[37m\u001b[0m \u001b[1m1s\u001b[0m 5ms/step - accuracy: 0.6824 - loss: 0.9437 - val_accuracy: 0.8670 - val_loss: 0.4593\n",
            "Epoch 3/200\n",
            "\u001b[1m307/307\u001b[0m \u001b[32m━━━━━━━━━━━━━━━━━━━━\u001b[0m\u001b[37m\u001b[0m \u001b[1m1s\u001b[0m 5ms/step - accuracy: 0.7915 - loss: 0.6415 - val_accuracy: 0.9074 - val_loss: 0.3560\n",
            "Epoch 4/200\n",
            "\u001b[1m307/307\u001b[0m \u001b[32m━━━━━━━━━━━━━━━━━━━━\u001b[0m\u001b[37m\u001b[0m \u001b[1m1s\u001b[0m 3ms/step - accuracy: 0.8346 - loss: 0.4978 - val_accuracy: 0.9235 - val_loss: 0.2933\n",
            "Epoch 5/200\n",
            "\u001b[1m307/307\u001b[0m \u001b[32m━━━━━━━━━━━━━━━━━━━━\u001b[0m\u001b[37m\u001b[0m \u001b[1m1s\u001b[0m 3ms/step - accuracy: 0.8654 - loss: 0.4309 - val_accuracy: 0.9270 - val_loss: 0.2620\n",
            "Epoch 6/200\n",
            "\u001b[1m307/307\u001b[0m \u001b[32m━━━━━━━━━━━━━━━━━━━━\u001b[0m\u001b[37m\u001b[0m \u001b[1m1s\u001b[0m 3ms/step - accuracy: 0.8784 - loss: 0.3743 - val_accuracy: 0.9561 - val_loss: 0.2250\n",
            "Epoch 7/200\n",
            "\u001b[1m307/307\u001b[0m \u001b[32m━━━━━━━━━━━━━━━━━━━━\u001b[0m\u001b[37m\u001b[0m \u001b[1m1s\u001b[0m 3ms/step - accuracy: 0.8961 - loss: 0.3335 - val_accuracy: 0.9507 - val_loss: 0.2130\n",
            "Epoch 8/200\n",
            "\u001b[1m307/307\u001b[0m \u001b[32m━━━━━━━━━━━━━━━━━━━━\u001b[0m\u001b[37m\u001b[0m \u001b[1m1s\u001b[0m 3ms/step - accuracy: 0.9109 - loss: 0.2929 - val_accuracy: 0.9626 - val_loss: 0.1883\n",
            "Epoch 9/200\n",
            "\u001b[1m307/307\u001b[0m \u001b[32m━━━━━━━━━━━━━━━━━━━━\u001b[0m\u001b[37m\u001b[0m \u001b[1m1s\u001b[0m 3ms/step - accuracy: 0.9147 - loss: 0.2776 - val_accuracy: 0.9671 - val_loss: 0.1722\n",
            "Epoch 10/200\n",
            "\u001b[1m307/307\u001b[0m \u001b[32m━━━━━━━━━━━━━━━━━━━━\u001b[0m\u001b[37m\u001b[0m \u001b[1m1s\u001b[0m 3ms/step - accuracy: 0.9257 - loss: 0.2597 - val_accuracy: 0.9706 - val_loss: 0.1581\n",
            "Epoch 11/200\n",
            "\u001b[1m307/307\u001b[0m \u001b[32m━━━━━━━━━━━━━━━━━━━━\u001b[0m\u001b[37m\u001b[0m \u001b[1m1s\u001b[0m 3ms/step - accuracy: 0.9372 - loss: 0.2246 - val_accuracy: 0.9714 - val_loss: 0.1490\n",
            "Epoch 12/200\n",
            "\u001b[1m307/307\u001b[0m \u001b[32m━━━━━━━━━━━━━━━━━━━━\u001b[0m\u001b[37m\u001b[0m \u001b[1m1s\u001b[0m 3ms/step - accuracy: 0.9418 - loss: 0.2240 - val_accuracy: 0.9705 - val_loss: 0.1427\n",
            "Epoch 13/200\n",
            "\u001b[1m307/307\u001b[0m \u001b[32m━━━━━━━━━━━━━━━━━━━━\u001b[0m\u001b[37m\u001b[0m \u001b[1m1s\u001b[0m 3ms/step - accuracy: 0.9429 - loss: 0.2107 - val_accuracy: 0.9755 - val_loss: 0.1306\n",
            "Epoch 14/200\n",
            "\u001b[1m307/307\u001b[0m \u001b[32m━━━━━━━━━━━━━━━━━━━━\u001b[0m\u001b[37m\u001b[0m \u001b[1m1s\u001b[0m 3ms/step - accuracy: 0.9489 - loss: 0.1900 - val_accuracy: 0.9749 - val_loss: 0.1323\n",
            "Epoch 15/200\n",
            "\u001b[1m307/307\u001b[0m \u001b[32m━━━━━━━━━━━━━━━━━━━━\u001b[0m\u001b[37m\u001b[0m \u001b[1m1s\u001b[0m 4ms/step - accuracy: 0.9509 - loss: 0.1857 - val_accuracy: 0.9764 - val_loss: 0.1159\n",
            "Epoch 16/200\n",
            "\u001b[1m307/307\u001b[0m \u001b[32m━━━━━━━━━━━━━━━━━━━━\u001b[0m\u001b[37m\u001b[0m \u001b[1m2s\u001b[0m 6ms/step - accuracy: 0.9574 - loss: 0.1615 - val_accuracy: 0.9778 - val_loss: 0.1155\n",
            "Epoch 17/200\n",
            "\u001b[1m307/307\u001b[0m \u001b[32m━━━━━━━━━━━━━━━━━━━━\u001b[0m\u001b[37m\u001b[0m \u001b[1m2s\u001b[0m 4ms/step - accuracy: 0.9579 - loss: 0.1648 - val_accuracy: 0.9769 - val_loss: 0.1088\n",
            "Epoch 18/200\n",
            "\u001b[1m307/307\u001b[0m \u001b[32m━━━━━━━━━━━━━━━━━━━━\u001b[0m\u001b[37m\u001b[0m \u001b[1m1s\u001b[0m 3ms/step - accuracy: 0.9598 - loss: 0.1527 - val_accuracy: 0.9789 - val_loss: 0.1027\n",
            "Epoch 19/200\n",
            "\u001b[1m307/307\u001b[0m \u001b[32m━━━━━━━━━━━━━━━━━━━━\u001b[0m\u001b[37m\u001b[0m \u001b[1m1s\u001b[0m 3ms/step - accuracy: 0.9587 - loss: 0.1643 - val_accuracy: 0.9786 - val_loss: 0.0999\n",
            "Epoch 20/200\n",
            "\u001b[1m307/307\u001b[0m \u001b[32m━━━━━━━━━━━━━━━━━━━━\u001b[0m\u001b[37m\u001b[0m \u001b[1m1s\u001b[0m 3ms/step - accuracy: 0.9616 - loss: 0.1428 - val_accuracy: 0.9807 - val_loss: 0.0968\n",
            "Epoch 21/200\n",
            "\u001b[1m307/307\u001b[0m \u001b[32m━━━━━━━━━━━━━━━━━━━━\u001b[0m\u001b[37m\u001b[0m \u001b[1m1s\u001b[0m 3ms/step - accuracy: 0.9617 - loss: 0.1483 - val_accuracy: 0.9807 - val_loss: 0.0945\n",
            "Epoch 22/200\n",
            "\u001b[1m307/307\u001b[0m \u001b[32m━━━━━━━━━━━━━━━━━━━━\u001b[0m\u001b[37m\u001b[0m \u001b[1m1s\u001b[0m 3ms/step - accuracy: 0.9660 - loss: 0.1284 - val_accuracy: 0.9806 - val_loss: 0.0919\n",
            "Epoch 23/200\n",
            "\u001b[1m307/307\u001b[0m \u001b[32m━━━━━━━━━━━━━━━━━━━━\u001b[0m\u001b[37m\u001b[0m \u001b[1m1s\u001b[0m 3ms/step - accuracy: 0.9678 - loss: 0.1269 - val_accuracy: 0.9809 - val_loss: 0.0932\n",
            "Epoch 24/200\n",
            "\u001b[1m307/307\u001b[0m \u001b[32m━━━━━━━━━━━━━━━━━━━━\u001b[0m\u001b[37m\u001b[0m \u001b[1m1s\u001b[0m 3ms/step - accuracy: 0.9693 - loss: 0.1232 - val_accuracy: 0.9810 - val_loss: 0.0939\n",
            "Epoch 25/200\n",
            "\u001b[1m307/307\u001b[0m \u001b[32m━━━━━━━━━━━━━━━━━━━━\u001b[0m\u001b[37m\u001b[0m \u001b[1m1s\u001b[0m 3ms/step - accuracy: 0.9694 - loss: 0.1279 - val_accuracy: 0.9812 - val_loss: 0.0913\n",
            "Epoch 26/200\n",
            "\u001b[1m307/307\u001b[0m \u001b[32m━━━━━━━━━━━━━━━━━━━━\u001b[0m\u001b[37m\u001b[0m \u001b[1m1s\u001b[0m 4ms/step - accuracy: 0.9693 - loss: 0.1343 - val_accuracy: 0.9818 - val_loss: 0.0837\n",
            "Epoch 27/200\n",
            "\u001b[1m307/307\u001b[0m \u001b[32m━━━━━━━━━━━━━━━━━━━━\u001b[0m\u001b[37m\u001b[0m \u001b[1m1s\u001b[0m 4ms/step - accuracy: 0.9724 - loss: 0.1099 - val_accuracy: 0.9818 - val_loss: 0.0865\n",
            "Epoch 28/200\n",
            "\u001b[1m307/307\u001b[0m \u001b[32m━━━━━━━━━━━━━━━━━━━━\u001b[0m\u001b[37m\u001b[0m \u001b[1m1s\u001b[0m 4ms/step - accuracy: 0.9722 - loss: 0.1126 - val_accuracy: 0.9819 - val_loss: 0.0854\n",
            "Epoch 29/200\n",
            "\u001b[1m307/307\u001b[0m \u001b[32m━━━━━━━━━━━━━━━━━━━━\u001b[0m\u001b[37m\u001b[0m \u001b[1m1s\u001b[0m 3ms/step - accuracy: 0.9744 - loss: 0.1113 - val_accuracy: 0.9827 - val_loss: 0.0869\n",
            "Epoch 30/200\n",
            "\u001b[1m307/307\u001b[0m \u001b[32m━━━━━━━━━━━━━━━━━━━━\u001b[0m\u001b[37m\u001b[0m \u001b[1m1s\u001b[0m 3ms/step - accuracy: 0.9739 - loss: 0.1059 - val_accuracy: 0.9841 - val_loss: 0.0827\n",
            "Epoch 31/200\n",
            "\u001b[1m307/307\u001b[0m \u001b[32m━━━━━━━━━━━━━━━━━━━━\u001b[0m\u001b[37m\u001b[0m \u001b[1m1s\u001b[0m 3ms/step - accuracy: 0.9726 - loss: 0.1076 - val_accuracy: 0.9836 - val_loss: 0.0811\n",
            "Epoch 32/200\n",
            "\u001b[1m307/307\u001b[0m \u001b[32m━━━━━━━━━━━━━━━━━━━━\u001b[0m\u001b[37m\u001b[0m \u001b[1m1s\u001b[0m 3ms/step - accuracy: 0.9732 - loss: 0.1040 - val_accuracy: 0.9832 - val_loss: 0.0812\n",
            "Epoch 33/200\n",
            "\u001b[1m307/307\u001b[0m \u001b[32m━━━━━━━━━━━━━━━━━━━━\u001b[0m\u001b[37m\u001b[0m \u001b[1m1s\u001b[0m 3ms/step - accuracy: 0.9737 - loss: 0.1086 - val_accuracy: 0.9829 - val_loss: 0.0807\n",
            "Epoch 34/200\n",
            "\u001b[1m307/307\u001b[0m \u001b[32m━━━━━━━━━━━━━━━━━━━━\u001b[0m\u001b[37m\u001b[0m \u001b[1m1s\u001b[0m 3ms/step - accuracy: 0.9733 - loss: 0.1027 - val_accuracy: 0.9836 - val_loss: 0.0821\n",
            "Epoch 35/200\n",
            "\u001b[1m307/307\u001b[0m \u001b[32m━━━━━━━━━━━━━━━━━━━━\u001b[0m\u001b[37m\u001b[0m \u001b[1m1s\u001b[0m 3ms/step - accuracy: 0.9744 - loss: 0.1011 - val_accuracy: 0.9822 - val_loss: 0.0815\n",
            "Epoch 36/200\n",
            "\u001b[1m307/307\u001b[0m \u001b[32m━━━━━━━━━━━━━━━━━━━━\u001b[0m\u001b[37m\u001b[0m \u001b[1m1s\u001b[0m 3ms/step - accuracy: 0.9765 - loss: 0.1008 - val_accuracy: 0.9824 - val_loss: 0.0820\n",
            "Epoch 37/200\n",
            "\u001b[1m307/307\u001b[0m \u001b[32m━━━━━━━━━━━━━━━━━━━━\u001b[0m\u001b[37m\u001b[0m \u001b[1m1s\u001b[0m 3ms/step - accuracy: 0.9782 - loss: 0.0873 - val_accuracy: 0.9855 - val_loss: 0.0765\n",
            "Epoch 38/200\n",
            "\u001b[1m307/307\u001b[0m \u001b[32m━━━━━━━━━━━━━━━━━━━━\u001b[0m\u001b[37m\u001b[0m \u001b[1m1s\u001b[0m 3ms/step - accuracy: 0.9763 - loss: 0.0928 - val_accuracy: 0.9824 - val_loss: 0.0831\n",
            "Epoch 39/200\n",
            "\u001b[1m307/307\u001b[0m \u001b[32m━━━━━━━━━━━━━━━━━━━━\u001b[0m\u001b[37m\u001b[0m \u001b[1m1s\u001b[0m 4ms/step - accuracy: 0.9776 - loss: 0.0857 - val_accuracy: 0.9821 - val_loss: 0.0801\n",
            "Epoch 40/200\n",
            "\u001b[1m307/307\u001b[0m \u001b[32m━━━━━━━━━━━━━━━━━━━━\u001b[0m\u001b[37m\u001b[0m \u001b[1m1s\u001b[0m 4ms/step - accuracy: 0.9772 - loss: 0.0853 - val_accuracy: 0.9841 - val_loss: 0.0757\n",
            "Epoch 41/200\n",
            "\u001b[1m307/307\u001b[0m \u001b[32m━━━━━━━━━━━━━━━━━━━━\u001b[0m\u001b[37m\u001b[0m \u001b[1m1s\u001b[0m 4ms/step - accuracy: 0.9755 - loss: 0.0919 - val_accuracy: 0.9852 - val_loss: 0.0743\n",
            "Epoch 42/200\n",
            "\u001b[1m307/307\u001b[0m \u001b[32m━━━━━━━━━━━━━━━━━━━━\u001b[0m\u001b[37m\u001b[0m \u001b[1m1s\u001b[0m 3ms/step - accuracy: 0.9786 - loss: 0.0901 - val_accuracy: 0.9838 - val_loss: 0.0776\n",
            "Epoch 43/200\n",
            "\u001b[1m307/307\u001b[0m \u001b[32m━━━━━━━━━━━━━━━━━━━━\u001b[0m\u001b[37m\u001b[0m \u001b[1m1s\u001b[0m 3ms/step - accuracy: 0.9779 - loss: 0.0927 - val_accuracy: 0.9847 - val_loss: 0.0782\n",
            "Epoch 44/200\n",
            "\u001b[1m307/307\u001b[0m \u001b[32m━━━━━━━━━━━━━━━━━━━━\u001b[0m\u001b[37m\u001b[0m \u001b[1m1s\u001b[0m 3ms/step - accuracy: 0.9792 - loss: 0.0764 - val_accuracy: 0.9850 - val_loss: 0.0725\n",
            "Epoch 45/200\n",
            "\u001b[1m307/307\u001b[0m \u001b[32m━━━━━━━━━━━━━━━━━━━━\u001b[0m\u001b[37m\u001b[0m \u001b[1m1s\u001b[0m 3ms/step - accuracy: 0.9790 - loss: 0.0850 - val_accuracy: 0.9845 - val_loss: 0.0750\n",
            "Epoch 46/200\n",
            "\u001b[1m307/307\u001b[0m \u001b[32m━━━━━━━━━━━━━━━━━━━━\u001b[0m\u001b[37m\u001b[0m \u001b[1m1s\u001b[0m 3ms/step - accuracy: 0.9789 - loss: 0.0819 - val_accuracy: 0.9848 - val_loss: 0.0731\n",
            "Epoch 47/200\n",
            "\u001b[1m307/307\u001b[0m \u001b[32m━━━━━━━━━━━━━━━━━━━━\u001b[0m\u001b[37m\u001b[0m \u001b[1m1s\u001b[0m 3ms/step - accuracy: 0.9761 - loss: 0.0873 - val_accuracy: 0.9842 - val_loss: 0.0750\n",
            "Epoch 48/200\n",
            "\u001b[1m307/307\u001b[0m \u001b[32m━━━━━━━━━━━━━━━━━━━━\u001b[0m\u001b[37m\u001b[0m \u001b[1m1s\u001b[0m 3ms/step - accuracy: 0.9790 - loss: 0.0774 - val_accuracy: 0.9821 - val_loss: 0.0785\n",
            "Epoch 49/200\n",
            "\u001b[1m307/307\u001b[0m \u001b[32m━━━━━━━━━━━━━━━━━━━━\u001b[0m\u001b[37m\u001b[0m \u001b[1m1s\u001b[0m 3ms/step - accuracy: 0.9800 - loss: 0.0762 - val_accuracy: 0.9827 - val_loss: 0.0761\n",
            "Epoch 50/200\n",
            "\u001b[1m307/307\u001b[0m \u001b[32m━━━━━━━━━━━━━━━━━━━━\u001b[0m\u001b[37m\u001b[0m \u001b[1m1s\u001b[0m 3ms/step - accuracy: 0.9814 - loss: 0.0777 - val_accuracy: 0.9859 - val_loss: 0.0710\n",
            "Epoch 51/200\n",
            "\u001b[1m307/307\u001b[0m \u001b[32m━━━━━━━━━━━━━━━━━━━━\u001b[0m\u001b[37m\u001b[0m \u001b[1m1s\u001b[0m 3ms/step - accuracy: 0.9793 - loss: 0.0789 - val_accuracy: 0.9833 - val_loss: 0.0762\n",
            "Epoch 52/200\n",
            "\u001b[1m307/307\u001b[0m \u001b[32m━━━━━━━━━━━━━━━━━━━━\u001b[0m\u001b[37m\u001b[0m \u001b[1m1s\u001b[0m 4ms/step - accuracy: 0.9785 - loss: 0.0883 - val_accuracy: 0.9855 - val_loss: 0.0723\n",
            "Epoch 53/200\n",
            "\u001b[1m307/307\u001b[0m \u001b[32m━━━━━━━━━━━━━━━━━━━━\u001b[0m\u001b[37m\u001b[0m \u001b[1m2s\u001b[0m 3ms/step - accuracy: 0.9823 - loss: 0.0636 - val_accuracy: 0.9842 - val_loss: 0.0739\n",
            "Epoch 54/200\n",
            "\u001b[1m307/307\u001b[0m \u001b[32m━━━━━━━━━━━━━━━━━━━━\u001b[0m\u001b[37m\u001b[0m \u001b[1m1s\u001b[0m 3ms/step - accuracy: 0.9797 - loss: 0.0757 - val_accuracy: 0.9845 - val_loss: 0.0752\n",
            "Epoch 55/200\n",
            "\u001b[1m307/307\u001b[0m \u001b[32m━━━━━━━━━━━━━━━━━━━━\u001b[0m\u001b[37m\u001b[0m \u001b[1m1s\u001b[0m 3ms/step - accuracy: 0.9836 - loss: 0.0706 - val_accuracy: 0.9855 - val_loss: 0.0738\n",
            "Epoch 56/200\n",
            "\u001b[1m307/307\u001b[0m \u001b[32m━━━━━━━━━━━━━━━━━━━━\u001b[0m\u001b[37m\u001b[0m \u001b[1m1s\u001b[0m 3ms/step - accuracy: 0.9814 - loss: 0.0693 - val_accuracy: 0.9852 - val_loss: 0.0758\n",
            "Epoch 57/200\n",
            "\u001b[1m307/307\u001b[0m \u001b[32m━━━━━━━━━━━━━━━━━━━━\u001b[0m\u001b[37m\u001b[0m \u001b[1m1s\u001b[0m 3ms/step - accuracy: 0.9832 - loss: 0.0653 - val_accuracy: 0.9858 - val_loss: 0.0696\n",
            "Epoch 58/200\n",
            "\u001b[1m307/307\u001b[0m \u001b[32m━━━━━━━━━━━━━━━━━━━━\u001b[0m\u001b[37m\u001b[0m \u001b[1m1s\u001b[0m 3ms/step - accuracy: 0.9816 - loss: 0.0720 - val_accuracy: 0.9861 - val_loss: 0.0735\n",
            "Epoch 59/200\n",
            "\u001b[1m307/307\u001b[0m \u001b[32m━━━━━━━━━━━━━━━━━━━━\u001b[0m\u001b[37m\u001b[0m \u001b[1m1s\u001b[0m 3ms/step - accuracy: 0.9803 - loss: 0.0745 - val_accuracy: 0.9865 - val_loss: 0.0695\n",
            "Epoch 60/200\n",
            "\u001b[1m307/307\u001b[0m \u001b[32m━━━━━━━━━━━━━━━━━━━━\u001b[0m\u001b[37m\u001b[0m \u001b[1m1s\u001b[0m 3ms/step - accuracy: 0.9831 - loss: 0.0623 - val_accuracy: 0.9864 - val_loss: 0.0686\n",
            "Epoch 61/200\n",
            "\u001b[1m307/307\u001b[0m \u001b[32m━━━━━━━━━━━━━━━━━━━━\u001b[0m\u001b[37m\u001b[0m \u001b[1m1s\u001b[0m 3ms/step - accuracy: 0.9801 - loss: 0.0759 - val_accuracy: 0.9864 - val_loss: 0.0694\n",
            "Epoch 62/200\n",
            "\u001b[1m307/307\u001b[0m \u001b[32m━━━━━━━━━━━━━━━━━━━━\u001b[0m\u001b[37m\u001b[0m \u001b[1m1s\u001b[0m 3ms/step - accuracy: 0.9821 - loss: 0.0632 - val_accuracy: 0.9858 - val_loss: 0.0693\n",
            "Epoch 63/200\n",
            "\u001b[1m307/307\u001b[0m \u001b[32m━━━━━━━━━━━━━━━━━━━━\u001b[0m\u001b[37m\u001b[0m \u001b[1m1s\u001b[0m 4ms/step - accuracy: 0.9828 - loss: 0.0680 - val_accuracy: 0.9868 - val_loss: 0.0681\n",
            "Epoch 64/200\n",
            "\u001b[1m307/307\u001b[0m \u001b[32m━━━━━━━━━━━━━━━━━━━━\u001b[0m\u001b[37m\u001b[0m \u001b[1m1s\u001b[0m 5ms/step - accuracy: 0.9825 - loss: 0.0636 - val_accuracy: 0.9876 - val_loss: 0.0653\n",
            "Epoch 65/200\n",
            "\u001b[1m307/307\u001b[0m \u001b[32m━━━━━━━━━━━━━━━━━━━━\u001b[0m\u001b[37m\u001b[0m \u001b[1m1s\u001b[0m 4ms/step - accuracy: 0.9828 - loss: 0.0683 - val_accuracy: 0.9870 - val_loss: 0.0651\n",
            "Epoch 66/200\n",
            "\u001b[1m307/307\u001b[0m \u001b[32m━━━━━━━━━━━━━━━━━━━━\u001b[0m\u001b[37m\u001b[0m \u001b[1m1s\u001b[0m 3ms/step - accuracy: 0.9813 - loss: 0.0644 - val_accuracy: 0.9861 - val_loss: 0.0707\n",
            "Epoch 67/200\n",
            "\u001b[1m307/307\u001b[0m \u001b[32m━━━━━━━━━━━━━━━━━━━━\u001b[0m\u001b[37m\u001b[0m \u001b[1m1s\u001b[0m 3ms/step - accuracy: 0.9853 - loss: 0.0569 - val_accuracy: 0.9871 - val_loss: 0.0691\n",
            "Epoch 68/200\n",
            "\u001b[1m307/307\u001b[0m \u001b[32m━━━━━━━━━━━━━━━━━━━━\u001b[0m\u001b[37m\u001b[0m \u001b[1m1s\u001b[0m 3ms/step - accuracy: 0.9846 - loss: 0.0610 - val_accuracy: 0.9870 - val_loss: 0.0687\n",
            "Epoch 69/200\n",
            "\u001b[1m307/307\u001b[0m \u001b[32m━━━━━━━━━━━━━━━━━━━━\u001b[0m\u001b[37m\u001b[0m \u001b[1m1s\u001b[0m 3ms/step - accuracy: 0.9821 - loss: 0.0718 - val_accuracy: 0.9862 - val_loss: 0.0690\n",
            "Epoch 70/200\n",
            "\u001b[1m307/307\u001b[0m \u001b[32m━━━━━━━━━━━━━━━━━━━━\u001b[0m\u001b[37m\u001b[0m \u001b[1m1s\u001b[0m 3ms/step - accuracy: 0.9820 - loss: 0.0656 - val_accuracy: 0.9852 - val_loss: 0.0751\n",
            "Epoch 71/200\n",
            "\u001b[1m307/307\u001b[0m \u001b[32m━━━━━━━━━━━━━━━━━━━━\u001b[0m\u001b[37m\u001b[0m \u001b[1m1s\u001b[0m 3ms/step - accuracy: 0.9844 - loss: 0.0580 - val_accuracy: 0.9873 - val_loss: 0.0693\n",
            "Epoch 72/200\n",
            "\u001b[1m307/307\u001b[0m \u001b[32m━━━━━━━━━━━━━━━━━━━━\u001b[0m\u001b[37m\u001b[0m \u001b[1m1s\u001b[0m 3ms/step - accuracy: 0.9855 - loss: 0.0532 - val_accuracy: 0.9864 - val_loss: 0.0690\n",
            "Epoch 73/200\n",
            "\u001b[1m307/307\u001b[0m \u001b[32m━━━━━━━━━━━━━━━━━━━━\u001b[0m\u001b[37m\u001b[0m \u001b[1m1s\u001b[0m 3ms/step - accuracy: 0.9837 - loss: 0.0610 - val_accuracy: 0.9853 - val_loss: 0.0739\n",
            "Epoch 74/200\n",
            "\u001b[1m307/307\u001b[0m \u001b[32m━━━━━━━━━━━━━━━━━━━━\u001b[0m\u001b[37m\u001b[0m \u001b[1m1s\u001b[0m 3ms/step - accuracy: 0.9842 - loss: 0.0575 - val_accuracy: 0.9868 - val_loss: 0.0678\n",
            "Epoch 75/200\n",
            "\u001b[1m307/307\u001b[0m \u001b[32m━━━━━━━━━━━━━━━━━━━━\u001b[0m\u001b[37m\u001b[0m \u001b[1m1s\u001b[0m 3ms/step - accuracy: 0.9872 - loss: 0.0462 - val_accuracy: 0.9852 - val_loss: 0.0713\n",
            "Epoch 76/200\n",
            "\u001b[1m307/307\u001b[0m \u001b[32m━━━━━━━━━━━━━━━━━━━━\u001b[0m\u001b[37m\u001b[0m \u001b[1m1s\u001b[0m 5ms/step - accuracy: 0.9830 - loss: 0.0637 - val_accuracy: 0.9868 - val_loss: 0.0686\n",
            "Epoch 77/200\n",
            "\u001b[1m307/307\u001b[0m \u001b[32m━━━━━━━━━━━━━━━━━━━━\u001b[0m\u001b[37m\u001b[0m \u001b[1m1s\u001b[0m 4ms/step - accuracy: 0.9867 - loss: 0.0538 - val_accuracy: 0.9867 - val_loss: 0.0680\n",
            "Epoch 78/200\n",
            "\u001b[1m307/307\u001b[0m \u001b[32m━━━━━━━━━━━━━━━━━━━━\u001b[0m\u001b[37m\u001b[0m \u001b[1m1s\u001b[0m 3ms/step - accuracy: 0.9846 - loss: 0.0566 - val_accuracy: 0.9884 - val_loss: 0.0679\n",
            "Epoch 79/200\n",
            "\u001b[1m307/307\u001b[0m \u001b[32m━━━━━━━━━━━━━━━━━━━━\u001b[0m\u001b[37m\u001b[0m \u001b[1m1s\u001b[0m 3ms/step - accuracy: 0.9815 - loss: 0.0628 - val_accuracy: 0.9881 - val_loss: 0.0652\n",
            "Epoch 80/200\n",
            "\u001b[1m307/307\u001b[0m \u001b[32m━━━━━━━━━━━━━━━━━━━━\u001b[0m\u001b[37m\u001b[0m \u001b[1m1s\u001b[0m 3ms/step - accuracy: 0.9847 - loss: 0.0621 - val_accuracy: 0.9874 - val_loss: 0.0669\n",
            "Epoch 81/200\n",
            "\u001b[1m307/307\u001b[0m \u001b[32m━━━━━━━━━━━━━━━━━━━━\u001b[0m\u001b[37m\u001b[0m \u001b[1m1s\u001b[0m 3ms/step - accuracy: 0.9848 - loss: 0.0550 - val_accuracy: 0.9874 - val_loss: 0.0677\n",
            "Epoch 82/200\n",
            "\u001b[1m307/307\u001b[0m \u001b[32m━━━━━━━━━━━━━━━━━━━━\u001b[0m\u001b[37m\u001b[0m \u001b[1m1s\u001b[0m 3ms/step - accuracy: 0.9844 - loss: 0.0602 - val_accuracy: 0.9868 - val_loss: 0.0721\n",
            "Epoch 83/200\n",
            "\u001b[1m307/307\u001b[0m \u001b[32m━━━━━━━━━━━━━━━━━━━━\u001b[0m\u001b[37m\u001b[0m \u001b[1m1s\u001b[0m 3ms/step - accuracy: 0.9830 - loss: 0.0618 - val_accuracy: 0.9876 - val_loss: 0.0663\n",
            "Epoch 84/200\n",
            "\u001b[1m307/307\u001b[0m \u001b[32m━━━━━━━━━━━━━━━━━━━━\u001b[0m\u001b[37m\u001b[0m \u001b[1m1s\u001b[0m 3ms/step - accuracy: 0.9846 - loss: 0.0614 - val_accuracy: 0.9884 - val_loss: 0.0660\n",
            "Epoch 85/200\n",
            "\u001b[1m307/307\u001b[0m \u001b[32m━━━━━━━━━━━━━━━━━━━━\u001b[0m\u001b[37m\u001b[0m \u001b[1m1s\u001b[0m 3ms/step - accuracy: 0.9846 - loss: 0.0565 - val_accuracy: 0.9870 - val_loss: 0.0698\n",
            "Epoch 86/200\n",
            "\u001b[1m307/307\u001b[0m \u001b[32m━━━━━━━━━━━━━━━━━━━━\u001b[0m\u001b[37m\u001b[0m \u001b[1m1s\u001b[0m 3ms/step - accuracy: 0.9853 - loss: 0.0585 - val_accuracy: 0.9882 - val_loss: 0.0613\n",
            "Epoch 87/200\n",
            "\u001b[1m307/307\u001b[0m \u001b[32m━━━━━━━━━━━━━━━━━━━━\u001b[0m\u001b[37m\u001b[0m \u001b[1m1s\u001b[0m 3ms/step - accuracy: 0.9864 - loss: 0.0529 - val_accuracy: 0.9882 - val_loss: 0.0673\n",
            "Epoch 88/200\n",
            "\u001b[1m307/307\u001b[0m \u001b[32m━━━━━━━━━━━━━━━━━━━━\u001b[0m\u001b[37m\u001b[0m \u001b[1m1s\u001b[0m 4ms/step - accuracy: 0.9872 - loss: 0.0459 - val_accuracy: 0.9878 - val_loss: 0.0666\n",
            "Epoch 89/200\n",
            "\u001b[1m307/307\u001b[0m \u001b[32m━━━━━━━━━━━━━━━━━━━━\u001b[0m\u001b[37m\u001b[0m \u001b[1m1s\u001b[0m 4ms/step - accuracy: 0.9873 - loss: 0.0460 - val_accuracy: 0.9876 - val_loss: 0.0649\n",
            "Epoch 90/200\n",
            "\u001b[1m307/307\u001b[0m \u001b[32m━━━━━━━━━━━━━━━━━━━━\u001b[0m\u001b[37m\u001b[0m \u001b[1m1s\u001b[0m 5ms/step - accuracy: 0.9855 - loss: 0.0570 - val_accuracy: 0.9879 - val_loss: 0.0683\n",
            "Epoch 91/200\n",
            "\u001b[1m307/307\u001b[0m \u001b[32m━━━━━━━━━━━━━━━━━━━━\u001b[0m\u001b[37m\u001b[0m \u001b[1m1s\u001b[0m 3ms/step - accuracy: 0.9846 - loss: 0.0563 - val_accuracy: 0.9879 - val_loss: 0.0679\n",
            "Epoch 92/200\n",
            "\u001b[1m307/307\u001b[0m \u001b[32m━━━━━━━━━━━━━━━━━━━━\u001b[0m\u001b[37m\u001b[0m \u001b[1m1s\u001b[0m 3ms/step - accuracy: 0.9851 - loss: 0.0583 - val_accuracy: 0.9878 - val_loss: 0.0662\n",
            "Epoch 93/200\n",
            "\u001b[1m307/307\u001b[0m \u001b[32m━━━━━━━━━━━━━━━━━━━━\u001b[0m\u001b[37m\u001b[0m \u001b[1m1s\u001b[0m 3ms/step - accuracy: 0.9834 - loss: 0.0592 - val_accuracy: 0.9884 - val_loss: 0.0695\n",
            "Treinamento concluído.\n"
          ]
        }
      ]
    },
    {
      "cell_type": "markdown",
      "source": [
        "### Avaliação do Modelo"
      ],
      "metadata": {
        "id": "yqH18okSIOIR"
      }
    },
    {
      "cell_type": "markdown",
      "source": [
        "Com o fim do treinamento, abaixo tem-se os gráficos de Acurácia e Perda que mostram a evolução do treinamento do modelo."
      ],
      "metadata": {
        "id": "fIego_RsuQgR"
      }
    },
    {
      "cell_type": "code",
      "source": [
        "import matplotlib.pyplot as plt\n",
        "\n",
        "plt.figure(figsize=(12, 5))\n",
        "\n",
        "# Gráfico de Acurária\n",
        "plt.subplot(1, 2, 1)\n",
        "plt.plot(history.history['accuracy'], label='Acurácia de Treino')\n",
        "plt.plot(history.history['val_accuracy'], label='Acurácia de Validação')\n",
        "plt.title('Acurácia por Época')\n",
        "plt.xlabel('Época')\n",
        "plt.ylabel('Acurácia')\n",
        "plt.legend()\n",
        "\n",
        "# Gráfico de Perda\n",
        "plt.subplot(1, 2, 2)\n",
        "plt.plot(history.history['loss'], label='Perda de Treino')\n",
        "plt.plot(history.history['val_loss'], label='Perda de Validação')\n",
        "plt.title('Perda por Época')\n",
        "plt.xlabel('Época')\n",
        "plt.ylabel('Perda')\n",
        "plt.legend()\n",
        "\n",
        "plt.tight_layout()\n",
        "plt.show()"
      ],
      "metadata": {
        "colab": {
          "base_uri": "https://localhost:8080/",
          "height": 499
        },
        "id": "DdNWo-3wuP4D",
        "outputId": "e101ec3a-ac89-4099-ad07-f59ebc2567a9"
      },
      "execution_count": 41,
      "outputs": [
        {
          "output_type": "display_data",
          "data": {
            "text/plain": [
              "<Figure size 1200x500 with 2 Axes>"
            ],
            "image/png": "[encoded data removed]"
          },
          "metadata": {}
        }
      ]
    },
    {
      "cell_type": "markdown",
      "source": [
        "Por fim, a avaliação do modelo no conjunto de teste (conjunto nunca visto pelo modelo)."
      ],
      "metadata": {
        "id": "P5uKm9eMuwFC"
      }
    },
    {
      "cell_type": "code",
      "source": [
        "print(\"Carregando o melhor modelo salvo\")\n",
        "best_model = tf.keras.models.load_model(MODEL_CHECKPOINT_PATH)\n",
        "\n",
        "print(\"Avaliando o modelo no conjunto de teste (dados nunca vistos)...\")\n",
        "test_loss, test_accuracy = best_model.evaluate(X_test, y_test, verbose=0)\n",
        "print(f\"Acurácia no conjunto de teste: {test_accuracy * 100:.2f}%\")\n",
        "print(f\"Perda no conjunto de teste: {test_loss:.4f}\")"
      ],
      "metadata": {
        "colab": {
          "base_uri": "https://localhost:8080/"
        },
        "id": "_8qZQaGbu7o3",
        "outputId": "25b09c2a-c144-4748-d776-3d1a54eb0719"
      },
      "execution_count": 42,
      "outputs": [
        {
          "output_type": "stream",
          "name": "stdout",
          "text": [
            "Carregando o melhor modelo salvo\n",
            "Avaliando o modelo no conjunto de teste (dados nunca vistos)...\n",
            "Acurácia no conjunto de teste: 99.05%\n",
            "Perda no conjunto de teste: 0.0565\n"
          ]
        }
      ]
    },
    {
      "cell_type": "markdown",
      "source": [
        "Por fim, a matriz de confusão abaixo mostra a quantidade de exemplares verdadeiros junto com os prvistos."
      ],
      "metadata": {
        "id": "Aziv7Q3FGTw-"
      }
    },
    {
      "cell_type": "code",
      "source": [
        "from sklearn.metrics import confusion_matrix\n",
        "import seaborn as sns\n",
        "\n",
        "# Matriz de Confusão\n",
        "print(\"\\nGerando Matriz de Confusão...\")\n",
        "y_pred_probs = best_model.predict(X_test)\n",
        "y_pred = np.argmax(y_pred_probs, axis=1)\n",
        "\n",
        "# Pega os nomes das classes do LabelEncoder\n",
        "class_names = encoder.classes_\n",
        "\n",
        "cm = confusion_matrix(y_test, y_pred)\n",
        "plt.figure(figsize=(12, 10))\n",
        "sns.heatmap(cm, annot=True, fmt='d', cmap='Blues', xticklabels=class_names, yticklabels=class_names)\n",
        "plt.title('Matriz de Confusão')\n",
        "plt.ylabel('Verdadeiro')\n",
        "plt.xlabel('Previsto')\n",
        "plt.show()"
      ],
      "metadata": {
        "colab": {
          "base_uri": "https://localhost:8080/",
          "height": 926
        },
        "id": "YpfKZSvjOVnY",
        "outputId": "b1712a45-5af2-4730-867e-8e951b1a6b45"
      },
      "execution_count": 43,
      "outputs": [
        {
          "output_type": "stream",
          "name": "stdout",
          "text": [
            "\n",
            "Gerando Matriz de Confusão...\n",
            "\u001b[1m205/205\u001b[0m \u001b[32m━━━━━━━━━━━━━━━━━━━━\u001b[0m\u001b[37m\u001b[0m \u001b[1m1s\u001b[0m 2ms/step\n"
          ]
        },
        {
          "output_type": "display_data",
          "data": {
            "text/plain": [
              "<Figure size 1200x1000 with 2 Axes>"
            ],
            "image/png": "[encoded data removed]"
          },
          "metadata": {}
        }
      ]
    },
    {
      "cell_type": "markdown",
      "source": [
        "E por fim, o relatório de classificação das classes."
      ],
      "metadata": {
        "id": "VcIUpgSSOnjb"
      }
    },
    {
      "cell_type": "code",
      "source": [
        "from sklearn.metrics import classification_report\n",
        "print(\"Relatório de Classificação Detalhado:\")\n",
        "print(classification_report(y_test, y_pred, target_names=class_names))"
      ],
      "metadata": {
        "colab": {
          "base_uri": "https://localhost:8080/"
        },
        "id": "4PhYLBwlOsqp",
        "outputId": "e77f9e78-2487-4961-cdef-3ab18a5b8cdf"
      },
      "execution_count": 45,
      "outputs": [
        {
          "output_type": "stream",
          "name": "stdout",
          "text": [
            "Relatório de Classificação Detalhado:\n",
            "              precision    recall  f1-score   support\n",
            "\n",
            "           A       0.99      1.00      0.99       336\n",
            "           B       0.99      1.00      0.99       445\n",
            "           C       0.94      0.92      0.93        51\n",
            "           D       0.99      0.99      0.99       295\n",
            "           E       1.00      0.99      0.99       442\n",
            "           F       1.00      0.99      1.00       415\n",
            "           G       1.00      1.00      1.00       373\n",
            "           I       0.99      0.98      0.98       259\n",
            "           L       1.00      0.99      0.99       209\n",
            "           M       0.96      0.97      0.96       180\n",
            "           N       0.96      0.97      0.97       182\n",
            "           O       0.92      0.99      0.95       139\n",
            "           P       0.98      0.98      0.98        57\n",
            "           Q       1.00      0.99      0.99       406\n",
            "           R       0.98      0.98      0.98       322\n",
            "           S       0.99      1.00      1.00       440\n",
            "           T       1.00      0.99      0.99       433\n",
            "           U       0.99      0.98      0.99       336\n",
            "           V       1.00      1.00      1.00       440\n",
            "           W       1.00      1.00      1.00       333\n",
            "           Y       1.00      1.00      1.00       440\n",
            "\n",
            "    accuracy                           0.99      6533\n",
            "   macro avg       0.98      0.99      0.98      6533\n",
            "weighted avg       0.99      0.99      0.99      6533\n",
            "\n"
          ]
        }
      ]
    },
    {
      "cell_type": "markdown",
      "source": [
        "## Salvamento do Modelo"
      ],
      "metadata": {
        "id": "aGmvXbzoO70j"
      }
    },
    {
      "cell_type": "markdown",
      "source": [
        "Por fim, apra utilizar o modelo, tem-se abaixo o código para salvar tanto o modelo normal como sua versão lite para utilizar em dispositivos mais limitados utilizando a API do TensorFlow Lite."
      ],
      "metadata": {
        "id": "Nrky1X4eP0d1"
      }
    },
    {
      "cell_type": "code",
      "source": [
        "dir_base = Path('/content/drive/MyDrive/Colab Notebooks/Visão Computacional/AlphaLibras/models')# Diretório do Google Drive\n",
        "dir_base.mkdir(parents=True, exist_ok=True)"
      ],
      "metadata": {
        "id": "Yx2mQMbVQHpX"
      },
      "execution_count": 46,
      "outputs": []
    },
    {
      "cell_type": "markdown",
      "source": [
        "Salvando o modelo padrão"
      ],
      "metadata": {
        "id": "pnrcTTbGQMwO"
      }
    },
    {
      "cell_type": "code",
      "source": [
        "# Salvando o Modelo Padrão para Inferência Futura\n",
        "caminho_modelo_keras = dir_base / 'modelo_completo.keras'\n",
        "model.save(caminho_modelo_keras)\n",
        "print(f\"Modelo padrão salvo com sucesso em: '{caminho_modelo_keras}'\")"
      ],
      "metadata": {
        "colab": {
          "base_uri": "https://localhost:8080/"
        },
        "id": "LXbST5VQQSwW",
        "outputId": "3fa0547a-d90e-420f-e87d-1548d3c09440"
      },
      "execution_count": 47,
      "outputs": [
        {
          "output_type": "stream",
          "name": "stdout",
          "text": [
            "Modelo padrão salvo com sucesso em: '/content/drive/MyDrive/Colab Notebooks/Visão Computacional/AlphaLibras/models/modelo_completo.keras'\n"
          ]
        }
      ]
    },
    {
      "cell_type": "markdown",
      "source": [
        "Convertendo o modelo para uma versão lite."
      ],
      "metadata": {
        "id": "1KUj-rjzQayv"
      }
    },
    {
      "cell_type": "code",
      "source": [
        "# Convertendo e Salvando a Versão TensorFlow Lite\n",
        "\n",
        "converter = tf.lite.TFLiteConverter.from_keras_model(model)\n",
        "\n",
        "# Aplicando otimizações padrões (reduz o tamanho e acelera a inferência)\n",
        "converter.optimizations = [tf.lite.Optimize.DEFAULT]\n",
        "\n",
        "# Converte o modelo\n",
        "modelo_tflite = converter.convert()\n",
        "\n",
        "# Salva o arquivo .tflite no mesmo diretório\n",
        "caminho_modelo_lite = dir_base / 'modelo_libras.tflite'\n",
        "with open(caminho_modelo_lite, 'wb') as f:\n",
        "    f.write(modelo_tflite)\n",
        "\n",
        "print(f\"Modelo TFLite salvo com sucesso em: '{caminho_modelo_lite}'\")"
      ],
      "metadata": {
        "colab": {
          "base_uri": "https://localhost:8080/"
        },
        "id": "r6JWrmhhA6Cz",
        "outputId": "5c903699-c333-4b26-e25e-a92b587f282c"
      },
      "execution_count": 48,
      "outputs": [
        {
          "output_type": "stream",
          "name": "stdout",
          "text": [
            "Saved artifact at '/tmp/tmpadzvp76e'. The following endpoints are available:\n",
            "\n",
            "* Endpoint 'serve'\n",
            "  args_0 (POSITIONAL_ONLY): TensorSpec(shape=(None, 63), dtype=tf.float32, name='keras_tensor')\n",
            "Output Type:\n",
            "  TensorSpec(shape=(None, 21), dtype=tf.float32, name=None)\n",
            "Captures:\n",
            "  133724309302032: TensorSpec(shape=(), dtype=tf.resource, name=None)\n",
            "  133724309304528: TensorSpec(shape=(), dtype=tf.resource, name=None)\n",
            "  133724309305872: TensorSpec(shape=(), dtype=tf.resource, name=None)\n",
            "  133724309304144: TensorSpec(shape=(), dtype=tf.resource, name=None)\n",
            "  133724309303952: TensorSpec(shape=(), dtype=tf.resource, name=None)\n",
            "  133724309306064: TensorSpec(shape=(), dtype=tf.resource, name=None)\n",
            "Modelo TFLite salvo com sucesso em: '/content/drive/MyDrive/Colab Notebooks/Visão Computacional/AlphaLibras/models/modelo_libras.tflite'\n"
          ]
        }
      ]
    }
  ]
}